{
 "cells": [
  {
   "cell_type": "code",
   "execution_count": 41,
   "id": "59655d3d",
   "metadata": {},
   "outputs": [],
   "source": [
    "import telegram \n",
    "import numpy as np \n",
    "import matplotlib.pyplot as plt \n",
    "import seaborn as sns\n",
    "import io \n",
    "import pandas as pd\n",
    "import pandahouse\n",
    "from datetime import datetime, timedelta"
   ]
  },
  {
   "cell_type": "code",
   "execution_count": 42,
   "id": "48c62c4c",
   "metadata": {},
   "outputs": [],
   "source": [
    "token = '7044101108:AAETY0C2dU2iAJAV-N7y497ztoXxCBloq2E'\n",
    "bot = telegram.Bot(token=token)\n",
    "chat_id = 1027001565"
   ]
  },
  {
   "cell_type": "code",
   "execution_count": 43,
   "id": "40e9b41c",
   "metadata": {},
   "outputs": [],
   "source": [
    "connection = {\n",
    "    'host': 'https://clickhouse.lab.karpov.courses',\n",
    "    'password': 'dpo_python_2020',\n",
    "    'user': 'student',\n",
    "    'database': 'simulator'\n",
    "}"
   ]
  },
  {
   "cell_type": "code",
   "execution_count": 44,
   "id": "88a959a0",
   "metadata": {},
   "outputs": [],
   "source": [
    "def check_anomaly_iqr(df_metric, metric, a=3, n=5):\n",
    "    # функция предлогает алгоритм поиска аномалий в данных (межквартильный размах)\n",
    "    df_metric['q25'] = df_metric[metric].shift(1).rolling(n).quantile(0.25)\n",
    "    df_metric['q75'] = df_metric[metric].shift(1).rolling(n).quantile(0.75)\n",
    "    df_metric['iqr'] = df_metric['q75'] - df_metric['q25']\n",
    "    df_metric['up'] = df_metric['q75'] + a * df_metric['iqr']\n",
    "    df_metric['low'] = df_metric['q25'] - a * df_metric['iqr']\n",
    "    \n",
    "    df_metric['up'] = df_metric['up'].rolling(n, center=True, min_periods=1).mean()\n",
    "    df_metric['low'] = df_metric['low'].rolling(n, center=True, min_periods=1).mean()\n",
    "    \n",
    "    if df_metric[metric].iloc[-1] < df_metric['low'].iloc[-1] or df_metric[metric].iloc[-1] > df_metric['up'].iloc[-1]:\n",
    "        is_alert = 1\n",
    "    else:\n",
    "        is_alert = 0\n",
    "    return is_alert, df_metric"
   ]
  },
  {
   "cell_type": "code",
   "execution_count": 45,
   "id": "80f9e0c5",
   "metadata": {},
   "outputs": [],
   "source": [
    "def ren_alerts(df):\n",
    "    # система алертов\n",
    "    metrics_list = list(df.columns[3:])\n",
    "    for metric in metrics_list:\n",
    "        df_metric = df[['ts', 'date', 'hm', metric]].copy()\n",
    "        is_alert, df_metric = check_anomaly_iqr(df_metric, metric)\n",
    "        \n",
    "        if is_alert == 1 or True:\n",
    "            msg = '''\n",
    "            Метрика {metric}.\\nТекущее значение {current_val:.2f}. Отклонение более {last_val:.2%}.\\nСсылка: http://superset.lab.karpov.courses/r/5717\\n@zhaskanatshaimurat\n",
    "            '''.format(metric=metric, current_val=df_metric[metric].iloc[-1], last_val=1-df_metric[metric].iloc[-1]/df_metric[metric].iloc[-2])\n",
    "            \n",
    "            \n",
    "            sns.set(rc={'figure.figsize': (16, 10)})\n",
    "            plt.tight_layout()\n",
    "            \n",
    "            ax = sns.lineplot(x=df_metric['ts'], y=df_metric[metric], label='metric')\n",
    "            ax = sns.lineplot(x=df_metric['ts'], y=df_metric['up'], label='up')\n",
    "            ax = sns.lineplot(x=df_metric['ts'], y=df_metric['low'], label='low')\n",
    "            \n",
    "            for ind, label in enumerate(ax.get_xticklabels()):\n",
    "                if ind % 3 == 0:\n",
    "                    label.set_visible(True)\n",
    "                else:\n",
    "                    label.set_visible(False)\n",
    "            \n",
    "            ax.set(xlabel='time')\n",
    "            ax.set(ylabel=metric)\n",
    "            \n",
    "            ax.set_title(metric)\n",
    "            ax.set(ylim=(0, None))\n",
    "            \n",
    "            plot_object = io.BytesIO()\n",
    "            plt.savefig(plot_object)\n",
    "            plot_object.seek(0)\n",
    "            plot_object.name = '{0}.png'.format(metric)\n",
    "            plt.close()\n",
    "            \n",
    "            bot.sendMessage(chat_id=chat_id, text=msg)\n",
    "            bot.sendPhoto(chat_id=chat_id, photo=plot_object)\n",
    "            \n",
    "    return "
   ]
  },
  {
   "cell_type": "code",
   "execution_count": 46,
   "id": "2c8b9005",
   "metadata": {},
   "outputs": [],
   "source": [
    "    query = '''\n",
    "        SELECT toStartOfFifteenMinutes(time) as ts,\n",
    "               toDate(time) as date,\n",
    "               formatDateTime(ts, '%R') as hm,\n",
    "               uniqExact(user_id) as users_feed,\n",
    "               countIf(user_id, action='view') as views,\n",
    "               countIf(user_id, action='like') as likes,\n",
    "               countIf(user_id, action='like')/countIf(user_id, action='view') as CTR\n",
    "        FROM simulator_20240620.feed_actions\n",
    "        WHERE time >= today() - 1 and time < toStartOfFifteenMinutes(now())\n",
    "        GROUP BY ts, date, hm\n",
    "        ORDER BY ts\n",
    "    '''\n",
    "\n",
    "    df_feed_actions = pandahouse.read_clickhouse(connection=connection, query=query)"
   ]
  },
  {
   "cell_type": "code",
   "execution_count": 47,
   "id": "06be42b6",
   "metadata": {},
   "outputs": [],
   "source": [
    "    query = '''\n",
    "        SELECT toStartOfFifteenMinutes(time) as ts,\n",
    "               toDate(time) as date,\n",
    "               formatDateTime(ts, '%R') as hm,\n",
    "               uniqExact(user_id) as users_message,\n",
    "               count(user_id) as messages\n",
    "        FROM simulator_20240620.message_actions\n",
    "        WHERE time >= today() - 1 and time < toStartOfFifteenMinutes(now())\n",
    "        GROUP BY ts, date, hm\n",
    "        ORDER BY ts\n",
    "    '''\n",
    "\n",
    "    df_message_actions = pandahouse.read_clickhouse(connection=connection, query=query)"
   ]
  },
  {
   "cell_type": "code",
   "execution_count": 49,
   "id": "d5e82959",
   "metadata": {},
   "outputs": [],
   "source": [
    "ren_alerts(df_feed_actions)"
   ]
  },
  {
   "cell_type": "code",
   "execution_count": 50,
   "id": "9323487d",
   "metadata": {},
   "outputs": [],
   "source": [
    "metric_feed_actions = list(df_feed_actions.columns[3:])"
   ]
  },
  {
   "cell_type": "code",
   "execution_count": 51,
   "id": "50b5bcee",
   "metadata": {},
   "outputs": [
    {
     "data": {
      "text/plain": [
       "['users_feed', 'views', 'likes', 'CTR']"
      ]
     },
     "execution_count": 51,
     "metadata": {},
     "output_type": "execute_result"
    }
   ],
   "source": [
    "metric_feed_actions"
   ]
  },
  {
   "cell_type": "code",
   "execution_count": 40,
   "id": "4400dd5a",
   "metadata": {},
   "outputs": [
    {
     "ename": "NameError",
     "evalue": "name 'metric_message_actions' is not defined",
     "output_type": "error",
     "traceback": [
      "\u001b[1;31m---------------------------------------------------------------------------\u001b[0m",
      "\u001b[1;31mNameError\u001b[0m                                 Traceback (most recent call last)",
      "Input \u001b[1;32mIn [40]\u001b[0m, in \u001b[0;36m<cell line: 1>\u001b[1;34m()\u001b[0m\n\u001b[1;32m----> 1\u001b[0m \u001b[43mmetric_message_actions\u001b[49m\n",
      "\u001b[1;31mNameError\u001b[0m: name 'metric_message_actions' is not defined"
     ]
    }
   ],
   "source": [
    "metric_message_actions"
   ]
  },
  {
   "cell_type": "code",
   "execution_count": 25,
   "id": "5dd1d324",
   "metadata": {},
   "outputs": [],
   "source": [
    "superset_url = 'http://superset.lab.karpov.courses/r/5717'"
   ]
  },
  {
   "cell_type": "code",
   "execution_count": null,
   "id": "340db47f",
   "metadata": {},
   "outputs": [],
   "source": []
  }
 ],
 "metadata": {
  "kernelspec": {
   "display_name": "Python 3 (ipykernel)",
   "language": "python",
   "name": "python3"
  },
  "language_info": {
   "codemirror_mode": {
    "name": "ipython",
    "version": 3
   },
   "file_extension": ".py",
   "mimetype": "text/x-python",
   "name": "python",
   "nbconvert_exporter": "python",
   "pygments_lexer": "ipython3",
   "version": "3.9.12"
  }
 },
 "nbformat": 4,
 "nbformat_minor": 5
}
