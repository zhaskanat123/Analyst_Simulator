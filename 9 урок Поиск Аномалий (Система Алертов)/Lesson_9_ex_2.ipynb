{
 "cells": [
  {
   "cell_type": "code",
   "execution_count": 21,
   "id": "b44e3502",
   "metadata": {},
   "outputs": [],
   "source": [
    "import telegram \n",
    "import numpy as np \n",
    "import matplotlib.pyplot as plt \n",
    "import seaborn as sns\n",
    "import io \n",
    "import pandas as pd\n",
    "import pandahouse\n",
    "from datetime import datetime, timedelta"
   ]
  },
  {
   "cell_type": "code",
   "execution_count": 22,
   "id": "39bb2e10",
   "metadata": {},
   "outputs": [],
   "source": [
    "token = '7044101108:AAETY0C2dU2iAJAV-N7y497ztoXxCBloq2E'\n",
    "bot = telegram.Bot(token=token)\n",
    "chat_id = 1027001565"
   ]
  },
  {
   "cell_type": "code",
   "execution_count": 23,
   "id": "b117adb0",
   "metadata": {},
   "outputs": [],
   "source": [
    "connection = {\n",
    "    'host': 'https://clickhouse.lab.karpov.courses',\n",
    "    'password': 'dpo_python_2020',\n",
    "    'user': 'student',\n",
    "    'database': 'simulator'\n",
    "}"
   ]
  },
  {
   "cell_type": "code",
   "execution_count": 40,
   "id": "9dfdad92",
   "metadata": {},
   "outputs": [],
   "source": [
    "def check_anomaly_iqr(df_metric, metric, a=3, n=5):\n",
    "    # функция предлогает алгоритм поиска аномалий в данных (межквартильный размах)\n",
    "    df_metric['q25'] = df_metric[metric].shift(1).rolling(n).quantile(0.25)\n",
    "    df_metric['q75'] = df_metric[metric].shift(1).rolling(n).quantile(0.75)\n",
    "    df['iqr'] = df_metric['q75'] - df_metric['q25']\n",
    "    df_metric['up'] = df_metric['q75'] + a * df['iqr']\n",
    "    df_metric['low'] = df_metric['q25'] - a * df['iqr']\n",
    "    \n",
    "    df_metric['up'] = df_metric['up'].rolling(n, center=True, min_periods=1).mean()\n",
    "    df_metric['low'] = df_metric['low'].rolling(n, center=True, min_periods=1).mean()\n",
    "    \n",
    "    if df_metric[metric].iloc[-1] < df_metric['low'].iloc[-1] or df_metric[metric].iloc[-1] > df_metric['up'].iloc[-1]:\n",
    "        is_alert = 1\n",
    "    else:\n",
    "        is_alert = 0\n",
    "    return is_alert, df_metric"
   ]
  },
  {
   "cell_type": "code",
   "execution_count": 46,
   "id": "fdd7850e",
   "metadata": {},
   "outputs": [],
   "source": [
    "def ren_alerts(df):\n",
    "    # система алертов\n",
    "    metrics_list = ['users_feed', 'views', 'likes']\n",
    "    for metric in metrics_list:\n",
    "        df_metric = df[['ts', 'date', 'hm', metric]].copy()\n",
    "        is_alert, df_metric = check_anomaly_iqr(df_metric, metric)\n",
    "        \n",
    "        if is_alert == 1:\n",
    "            msg = '''Метрика {metric}:\\nтекущее значение {current_val:.2f}\\n отклонение от предыдущего значения {last_val:.2%}'''.format(metric=metric,\n",
    "                                                                                                                                        current_val=df_metric[metric].iloc[-1],\n",
    "                                                                                                                                        last_val=1-df_metric[metric].iloc[-1]/df_metric[metric].iloc[-2])\n",
    "            sns.set(rc={'figure.figsize': (16, 10)})\n",
    "            plt.tight_layout()\n",
    "            \n",
    "            ax = sns.lineplot(x=df_metric['ts'], y=df_metric[metric], label='metric')\n",
    "            ax = sns.lineplot(x=df_metric['ts'], y=df_metric['up'], label='up')\n",
    "            ax = sns.lineplot(x=df_metric['ts'], y=df_metric['low'], label='low')\n",
    "            \n",
    "            for ind, label in enumerate(ax.get_xticklabels()):\n",
    "                if ind % 3 == 0:\n",
    "                    label.set_visible(True)\n",
    "                else:\n",
    "                    label.set_visible(False)\n",
    "            \n",
    "            ax.set(xlabel='time')\n",
    "            ax.set(ylabel=metric)\n",
    "            \n",
    "            ax.set_title(metric)\n",
    "            ax.set(ylim=(0, None))\n",
    "            \n",
    "            plot_object = io.BytesIO()\n",
    "            plt.savefig(plot_object)\n",
    "            plot_object.seek(0)\n",
    "            plot_object.name = '{0}.png'.format(metric)\n",
    "            plt.close()\n",
    "            \n",
    "            bot.sendMessage(chat_id=chat_id, text=msg)\n",
    "            bot.sendPhoto(chat_id=chat_id, photo=plot_object)\n",
    "            \n",
    "    return "
   ]
  },
  {
   "cell_type": "code",
   "execution_count": 45,
   "id": "d2c64dd9",
   "metadata": {},
   "outputs": [],
   "source": [
    "    query = '''\n",
    "        SELECT toStartOfFifteenMinutes(time) as ts,\n",
    "               toDate(time) as date,\n",
    "               formatDateTime(ts, '%R') as hm,\n",
    "               uniqExact(user_id) as users_feed,\n",
    "               countIf(user_id, action='view') as views,\n",
    "               countIf(user_id, action='like') as likes\n",
    "        FROM simulator_20240620.feed_actions\n",
    "        WHERE time >= today() - 1 and time < toStartOfFifteenMinutes(now())\n",
    "        GROUP BY ts, date, hm\n",
    "        ORDER BY ts\n",
    "    '''\n",
    "\n",
    "    df = pandahouse.read_clickhouse(connection=connection, query=query)"
   ]
  },
  {
   "cell_type": "code",
   "execution_count": 50,
   "id": "c47fcc18",
   "metadata": {},
   "outputs": [],
   "source": [
    "def check_anomaly_sigma(df_metric, metric, a=3, n=5):\n",
    "    df_metric['rolling_mean'] = df_metric[metric].shift(1).rolling(n).mean()\n",
    "    df_metric['rolling_std'] = df_metric[metric].shift(1).rolling(n).std()\n",
    "    \n",
    "    df_metric['up'] = df_metric['rolling_mean'] + a * df_metric['rolling_std']\n",
    "    df_metric['low'] = df_metric['rolling_mean'] - a * df_metric['rolling_std']\n",
    "    \n",
    "    df_metric['up'] = df_metric['up'].rolling(n, center=True, min_periods=1).mean()\n",
    "    df_metric['low'] = df_metric['low'].rolling(n, center=True, min_periods=1).mean()    \n",
    "    \n",
    "    if df_metric[metric].iloc[-1] < df_metric['low'].iloc[-1] or df_metric[metric].iloc[-1] > df_metric['up'].iloc[-1]:\n",
    "        is_alert = 1\n",
    "    else:\n",
    "        is_alert = 0\n",
    "    \n",
    "    return is_alert, df_metric\n",
    "    "
   ]
  },
  {
   "cell_type": "code",
   "execution_count": 51,
   "id": "f519dbee",
   "metadata": {},
   "outputs": [],
   "source": [
    "def run_alerts_mine(df):\n",
    "    # система алертов\n",
    "    metrics_list = ['users_feed', 'views', 'likes']\n",
    "    for metric in metrics_list:\n",
    "        df_metric = df[['ts', 'date', 'hm', metric]].copy()\n",
    "        is_alert, df_metric = check_anomaly_sigma(df_metric, metric)\n",
    "        \n",
    "        if is_alert == 1 or True:\n",
    "            msg = '''\n",
    "            Метрика в срезе . \n",
    "            Текущее значение . Отклонение более %.\n",
    "            [опционально: ссылка на риалтайм чарт этой метрики в BI для более гибкого просмотра]\n",
    "            [опционально: ссылка на риалтайм дашборд в BI для исследования ситуации в целом]\n",
    "            @[опционально: тегаем ответственного/наиболее заинтересованного человека в случае отклонения конкретно \n",
    "              этой метрики в этом срезе (если такой человек есть)]\n",
    "\n",
    "            [график]\n",
    "            '''\n",
    "            msg = '''Метрика {metric}:\\nтекущее значение {current_val:.2f}\\n\\\n",
    "            отклонение от предыдущего значения {last_val:.2%}'''.format(metric=metric, current_val=df_metric[metric].iloc[-1], last_val=1-df_metric[metric].iloc[-1]/df_metric[metric].iloc[-2])\n",
    "            \n",
    "            sns.set(rc={'figure.figsize': (16, 10)})\n",
    "            plt.tight_layout()\n",
    "            \n",
    "            ax = sns.lineplot(x=df_metric['ts'], y=df_metric[metric], label='metric')\n",
    "            ax = sns.lineplot(x=df_metric['ts'], y=df_metric['up'], label='up')\n",
    "            ax = sns.lineplot(x=df_metric['ts'], y=df_metric['low'], label='low')\n",
    "            \n",
    "            for ind, label in enumerate(ax.get_xticklabels()):\n",
    "                if ind % 3 == 0:\n",
    "                    label.set_visible(True)\n",
    "                else:\n",
    "                    label.set_visible(False)\n",
    "            \n",
    "            ax.set(xlabel='time')\n",
    "            ax.set(ylabel=metric)\n",
    "            \n",
    "            ax.set_title(metric)\n",
    "            ax.set(ylim=(0, None))\n",
    "            \n",
    "            plot_object = io.BytesIO()\n",
    "            plt.savefig(plot_object)\n",
    "            plot_object.seek(0)\n",
    "            plot_object.name = '{0}.png'.format(metric)\n",
    "            plt.close()\n",
    "            \n",
    "            bot.sendMessage(chat_id=chat_id, text=msg)\n",
    "            bot.sendPhoto(chat_id=chat_id, photo=plot_object)\n",
    "        \n",
    "    return "
   ]
  },
  {
   "cell_type": "code",
   "execution_count": 52,
   "id": "8f3a85fc",
   "metadata": {},
   "outputs": [],
   "source": [
    "run_alerts_mine(df)"
   ]
  },
  {
   "cell_type": "code",
   "execution_count": null,
   "id": "d04e997b",
   "metadata": {},
   "outputs": [],
   "source": [
    "Метрика {metric_name} в срезе {group}. \n",
    "Текущее значение {current_x}. Отклонение более {x}%.\n",
    "[опционально: ссылка на риалтайм чарт этой метрики в BI для более гибкого просмотра]\n",
    "[опционально: ссылка на риалтайм дашборд в BI для исследования ситуации в целом]\n",
    "@[опционально: тегаем ответственного/наиболее заинтересованного человека в случае отклонения конкретно \n",
    "  этой метрики в этом срезе (если такой человек есть)]\n",
    "   \n",
    "[график]"
   ]
  },
  {
   "cell_type": "code",
   "execution_count": 1,
   "id": "94de17dd",
   "metadata": {},
   "outputs": [],
   "source": [
    "msg = '''\n",
    "Метрика в срезе . \n",
    "Текущее значение . Отклонение более %.\n",
    "[опционально: ссылка на риалтайм чарт этой метрики в BI для более гибкого просмотра]\n",
    "[опционально: ссылка на риалтайм дашборд в BI для исследования ситуации в целом]\n",
    "@[опционально: тегаем ответственного/наиболее заинтересованного человека в случае отклонения конкретно \n",
    "  этой метрики в этом срезе (если такой человек есть)]\n",
    "   \n",
    "[график]\n",
    "'''"
   ]
  },
  {
   "cell_type": "code",
   "execution_count": 2,
   "id": "40da5547",
   "metadata": {},
   "outputs": [
    {
     "name": "stdout",
     "output_type": "stream",
     "text": [
      "\n",
      "Метрика в срезе . \n",
      "Текущее значение . Отклонение более %.\n",
      "[опционально: ссылка на риалтайм чарт этой метрики в BI для более гибкого просмотра]\n",
      "[опционально: ссылка на риалтайм дашборд в BI для исследования ситуации в целом]\n",
      "@[опционально: тегаем ответственного/наиболее заинтересованного человека в случае отклонения конкретно \n",
      "  этой метрики в этом срезе (если такой человек есть)]\n",
      "   \n",
      "[график]\n",
      "\n"
     ]
    }
   ],
   "source": [
    "print(msg)"
   ]
  },
  {
   "cell_type": "code",
   "execution_count": null,
   "id": "4e0fa085",
   "metadata": {},
   "outputs": [],
   "source": []
  }
 ],
 "metadata": {
  "kernelspec": {
   "display_name": "Python 3 (ipykernel)",
   "language": "python",
   "name": "python3"
  },
  "language_info": {
   "codemirror_mode": {
    "name": "ipython",
    "version": 3
   },
   "file_extension": ".py",
   "mimetype": "text/x-python",
   "name": "python",
   "nbconvert_exporter": "python",
   "pygments_lexer": "ipython3",
   "version": "3.9.12"
  }
 },
 "nbformat": 4,
 "nbformat_minor": 5
}
