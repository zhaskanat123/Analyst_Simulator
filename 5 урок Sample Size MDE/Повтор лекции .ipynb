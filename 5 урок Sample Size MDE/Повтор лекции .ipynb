{
 "cells": [
  {
   "cell_type": "code",
   "execution_count": 5,
   "id": "4e4bf777",
   "metadata": {},
   "outputs": [],
   "source": [
    "import pandahouse as ph\n",
    "import pandas as pd\n",
    "import numpy as np\n",
    "import seaborn as sns\n",
    "from scipy import stats \n",
    "import matplotlib.pyplot as plt \n",
    "from scipy.stats import norm, ttest_ind\n",
    "import hashlib\n",
    "%matplotlib inline"
   ]
  },
  {
   "cell_type": "code",
   "execution_count": 6,
   "id": "bb412aa2",
   "metadata": {},
   "outputs": [],
   "source": [
    "# Это мы в Clickhouse ходить будем\n",
    "connection = {\n",
    "    'host': 'https://clickhouse.lab.karpov.courses',\n",
    "    'password': 'dpo_python_2020',\n",
    "    'user': 'student',\n",
    "    'database': 'simulator'\n",
    "}"
   ]
  },
  {
   "cell_type": "code",
   "execution_count": 7,
   "id": "b5adfe35",
   "metadata": {},
   "outputs": [],
   "source": [
    "q = \"\"\"\n",
    "select views, count() as users\n",
    "from (select  \n",
    "    user_id,\n",
    "    sum(action = 'view') as views\n",
    "from simulator_20240620.feed_actions \n",
    "where toDate(time) between '2024-05-31' and '2024-06-06'\n",
    "group by user_id\n",
    ")\n",
    "group by views\n",
    "order by views\n",
    "\"\"\"\n",
    "#Это у нас запрос который показыывет кол-просмотров на пользвателя \n",
    "#Потом количество пользвателя на просмотр \n",
    "views_distribution = ph.read_clickhouse(q, connection=connection)"
   ]
  },
  {
   "cell_type": "code",
   "execution_count": 8,
   "id": "73e9a331",
   "metadata": {},
   "outputs": [
    {
     "data": {
      "text/html": [
       "<div>\n",
       "<style scoped>\n",
       "    .dataframe tbody tr th:only-of-type {\n",
       "        vertical-align: middle;\n",
       "    }\n",
       "\n",
       "    .dataframe tbody tr th {\n",
       "        vertical-align: top;\n",
       "    }\n",
       "\n",
       "    .dataframe thead th {\n",
       "        text-align: right;\n",
       "    }\n",
       "</style>\n",
       "<table border=\"1\" class=\"dataframe\">\n",
       "  <thead>\n",
       "    <tr style=\"text-align: right;\">\n",
       "      <th></th>\n",
       "      <th>views</th>\n",
       "      <th>users</th>\n",
       "    </tr>\n",
       "  </thead>\n",
       "  <tbody>\n",
       "    <tr>\n",
       "      <th>0</th>\n",
       "      <td>1</td>\n",
       "      <td>11</td>\n",
       "    </tr>\n",
       "    <tr>\n",
       "      <th>1</th>\n",
       "      <td>2</td>\n",
       "      <td>9</td>\n",
       "    </tr>\n",
       "    <tr>\n",
       "      <th>2</th>\n",
       "      <td>3</td>\n",
       "      <td>3</td>\n",
       "    </tr>\n",
       "    <tr>\n",
       "      <th>3</th>\n",
       "      <td>4</td>\n",
       "      <td>4</td>\n",
       "    </tr>\n",
       "    <tr>\n",
       "      <th>4</th>\n",
       "      <td>5</td>\n",
       "      <td>22</td>\n",
       "    </tr>\n",
       "  </tbody>\n",
       "</table>\n",
       "</div>"
      ],
      "text/plain": [
       "   views  users\n",
       "0      1     11\n",
       "1      2      9\n",
       "2      3      3\n",
       "3      4      4\n",
       "4      5     22"
      ]
     },
     "execution_count": 8,
     "metadata": {},
     "output_type": "execute_result"
    }
   ],
   "source": [
    "views_distribution.head()"
   ]
  },
  {
   "cell_type": "code",
   "execution_count": 9,
   "id": "d1b7d412",
   "metadata": {},
   "outputs": [
    {
     "data": {
      "text/plain": [
       "49814"
      ]
     },
     "execution_count": 9,
     "metadata": {},
     "output_type": "execute_result"
    }
   ],
   "source": [
    "#общее количество пользователей \n",
    "views_distribution.users.sum()"
   ]
  },
  {
   "cell_type": "code",
   "execution_count": 11,
   "id": "d26cfe21",
   "metadata": {},
   "outputs": [],
   "source": [
    "# p содержит вероятности (доли), показывающие, \n",
    "#какая часть от общего количества пользователей приходится на каждый просмотр.\n",
    "#вероятность пользователей в каждой категории относительно общего количества пользователей.\n",
    "views_distribution['p'] = views_distribution['users']/views_distribution.users.sum()"
   ]
  },
  {
   "cell_type": "code",
   "execution_count": 12,
   "id": "5b7c6fcd",
   "metadata": {},
   "outputs": [
    {
     "data": {
      "text/html": [
       "<div>\n",
       "<style scoped>\n",
       "    .dataframe tbody tr th:only-of-type {\n",
       "        vertical-align: middle;\n",
       "    }\n",
       "\n",
       "    .dataframe tbody tr th {\n",
       "        vertical-align: top;\n",
       "    }\n",
       "\n",
       "    .dataframe thead th {\n",
       "        text-align: right;\n",
       "    }\n",
       "</style>\n",
       "<table border=\"1\" class=\"dataframe\">\n",
       "  <thead>\n",
       "    <tr style=\"text-align: right;\">\n",
       "      <th></th>\n",
       "      <th>views</th>\n",
       "      <th>users</th>\n",
       "      <th>p</th>\n",
       "    </tr>\n",
       "  </thead>\n",
       "  <tbody>\n",
       "    <tr>\n",
       "      <th>13</th>\n",
       "      <td>14</td>\n",
       "      <td>637</td>\n",
       "      <td>0.012788</td>\n",
       "    </tr>\n",
       "    <tr>\n",
       "      <th>15</th>\n",
       "      <td>16</td>\n",
       "      <td>616</td>\n",
       "      <td>0.012366</td>\n",
       "    </tr>\n",
       "    <tr>\n",
       "      <th>14</th>\n",
       "      <td>15</td>\n",
       "      <td>606</td>\n",
       "      <td>0.012165</td>\n",
       "    </tr>\n",
       "    <tr>\n",
       "      <th>32</th>\n",
       "      <td>33</td>\n",
       "      <td>602</td>\n",
       "      <td>0.012085</td>\n",
       "    </tr>\n",
       "    <tr>\n",
       "      <th>33</th>\n",
       "      <td>34</td>\n",
       "      <td>597</td>\n",
       "      <td>0.011985</td>\n",
       "    </tr>\n",
       "    <tr>\n",
       "      <th>...</th>\n",
       "      <td>...</td>\n",
       "      <td>...</td>\n",
       "      <td>...</td>\n",
       "    </tr>\n",
       "    <tr>\n",
       "      <th>271</th>\n",
       "      <td>273</td>\n",
       "      <td>1</td>\n",
       "      <td>0.000020</td>\n",
       "    </tr>\n",
       "    <tr>\n",
       "      <th>279</th>\n",
       "      <td>282</td>\n",
       "      <td>1</td>\n",
       "      <td>0.000020</td>\n",
       "    </tr>\n",
       "    <tr>\n",
       "      <th>273</th>\n",
       "      <td>275</td>\n",
       "      <td>1</td>\n",
       "      <td>0.000020</td>\n",
       "    </tr>\n",
       "    <tr>\n",
       "      <th>277</th>\n",
       "      <td>280</td>\n",
       "      <td>1</td>\n",
       "      <td>0.000020</td>\n",
       "    </tr>\n",
       "    <tr>\n",
       "      <th>302</th>\n",
       "      <td>359</td>\n",
       "      <td>1</td>\n",
       "      <td>0.000020</td>\n",
       "    </tr>\n",
       "  </tbody>\n",
       "</table>\n",
       "<p>303 rows × 3 columns</p>\n",
       "</div>"
      ],
      "text/plain": [
       "     views  users         p\n",
       "13      14    637  0.012788\n",
       "15      16    616  0.012366\n",
       "14      15    606  0.012165\n",
       "32      33    602  0.012085\n",
       "33      34    597  0.011985\n",
       "..     ...    ...       ...\n",
       "271    273      1  0.000020\n",
       "279    282      1  0.000020\n",
       "273    275      1  0.000020\n",
       "277    280      1  0.000020\n",
       "302    359      1  0.000020\n",
       "\n",
       "[303 rows x 3 columns]"
      ]
     },
     "execution_count": 12,
     "metadata": {},
     "output_type": "execute_result"
    }
   ],
   "source": [
    "views_distribution.sort_values(by = 'p', ascending = False)"
   ]
  },
  {
   "cell_type": "code",
   "execution_count": 15,
   "id": "56cecd02",
   "metadata": {},
   "outputs": [
    {
     "data": {
      "text/plain": [
       "<AxesSubplot:xlabel='p', ylabel='Count'>"
      ]
     },
     "execution_count": 15,
     "metadata": {},
     "output_type": "execute_result"
    },
    {
     "data": {
      "image/png": "[encoded data removed]",
      "text/plain": [
       "<Figure size 432x288 with 1 Axes>"
      ]
     },
     "metadata": {
      "needs_background": "light"
     },
     "output_type": "display_data"
    }
   ],
   "source": [
    "#график распределение вероятность пользвателя от общего колчичество \n",
    "sns.histplot(views_distribution.p, bins=30)"
   ]
  },
  {
   "cell_type": "code",
   "execution_count": null,
   "id": "d4266f15",
   "metadata": {},
   "outputs": [],
   "source": []
  },
  {
   "cell_type": "code",
   "execution_count": 16,
   "id": "8a499b1d",
   "metadata": {},
   "outputs": [],
   "source": [
    "# создает дискретное распределение вероятностей\n",
    "# Создает объект дискретного распределения, где значения и \n",
    "#их вероятности задаются массивами views_distribution['views'] и views_distribution['p'], соответственно.\n",
    "views_distr = stats.rv_discrete(name='views_distr', \n",
    "                                values=(views_distribution['views'], \n",
    "                                        views_distribution['p']))"
   ]
  },
  {
   "cell_type": "code",
   "execution_count": 17,
   "id": "cfc12ad4",
   "metadata": {},
   "outputs": [
    {
     "data": {
      "text/plain": [
       "67.11753723852732"
      ]
     },
     "execution_count": 17,
     "metadata": {},
     "output_type": "execute_result"
    }
   ],
   "source": [
    "views_distr.mean()"
   ]
  },
  {
   "cell_type": "code",
   "execution_count": 18,
   "id": "b40d2730",
   "metadata": {},
   "outputs": [
    {
     "data": {
      "text/plain": [
       "57.0"
      ]
     },
     "execution_count": 18,
     "metadata": {},
     "output_type": "execute_result"
    }
   ],
   "source": [
    "views_distr.median()"
   ]
  },
  {
   "cell_type": "code",
   "execution_count": 19,
   "id": "457e218b",
   "metadata": {},
   "outputs": [
    {
     "data": {
      "text/plain": [
       "<AxesSubplot:ylabel='Count'>"
      ]
     },
     "execution_count": 19,
     "metadata": {},
     "output_type": "execute_result"
    },
    {
     "data": {
      "image/png": "[encoded data removed]",
      "text/plain": [
       "<Figure size 432x288 with 1 Axes>"
      ]
     },
     "metadata": {
      "needs_background": "light"
     },
     "output_type": "display_data"
    }
   ],
   "source": [
    "sns.histplot(views_distr.rvs(size=2000))"
   ]
  },
  {
   "cell_type": "markdown",
   "id": "c37af5ac",
   "metadata": {},
   "source": [
    "Достанем распределение CTR'ов за неделю"
   ]
  },
  {
   "cell_type": "code",
   "execution_count": 77,
   "id": "93db9337",
   "metadata": {},
   "outputs": [],
   "source": [
    "q = \"\"\"\n",
    "select \n",
    "   floor(ctr, 2) as ctr, count() as users\n",
    "from (select toDate(time) as dt, \n",
    "    exp_group,\n",
    "    user_id,\n",
    "    sum(action = 'like')/sum(action = 'view') as ctr\n",
    "from simulator_20240620.feed_actions \n",
    "where dt between '2024-05-31' and '2024-06-06'\n",
    "    and exp_group in (0,1,2,3,4)\n",
    "group by dt, exp_group, user_id\n",
    ")\n",
    "group by ctr\n",
    "\"\"\"\n",
    "\n",
    "\n",
    "ctr_distribution = ph.read_clickhouse(q, connection=connection)"
   ]
  },
  {
   "cell_type": "code",
   "execution_count": 78,
   "id": "b6ee0fac",
   "metadata": {},
   "outputs": [],
   "source": [
    "ctr_distribution['p'] = ctr_distribution['users']/ctr_distribution.users.sum()"
   ]
  },
  {
   "cell_type": "code",
   "execution_count": 79,
   "id": "4ce4e496",
   "metadata": {},
   "outputs": [
    {
     "data": {
      "text/html": [
       "<div>\n",
       "<style scoped>\n",
       "    .dataframe tbody tr th:only-of-type {\n",
       "        vertical-align: middle;\n",
       "    }\n",
       "\n",
       "    .dataframe tbody tr th {\n",
       "        vertical-align: top;\n",
       "    }\n",
       "\n",
       "    .dataframe thead th {\n",
       "        text-align: right;\n",
       "    }\n",
       "</style>\n",
       "<table border=\"1\" class=\"dataframe\">\n",
       "  <thead>\n",
       "    <tr style=\"text-align: right;\">\n",
       "      <th></th>\n",
       "      <th>ctr</th>\n",
       "      <th>users</th>\n",
       "      <th>p</th>\n",
       "    </tr>\n",
       "  </thead>\n",
       "  <tbody>\n",
       "    <tr>\n",
       "      <th>21</th>\n",
       "      <td>0.20</td>\n",
       "      <td>4977</td>\n",
       "      <td>0.051662</td>\n",
       "    </tr>\n",
       "    <tr>\n",
       "      <th>57</th>\n",
       "      <td>0.25</td>\n",
       "      <td>4298</td>\n",
       "      <td>0.044614</td>\n",
       "    </tr>\n",
       "    <tr>\n",
       "      <th>39</th>\n",
       "      <td>0.16</td>\n",
       "      <td>4111</td>\n",
       "      <td>0.042673</td>\n",
       "    </tr>\n",
       "    <tr>\n",
       "      <th>6</th>\n",
       "      <td>0.18</td>\n",
       "      <td>4015</td>\n",
       "      <td>0.041676</td>\n",
       "    </tr>\n",
       "    <tr>\n",
       "      <th>83</th>\n",
       "      <td>0.21</td>\n",
       "      <td>3799</td>\n",
       "      <td>0.039434</td>\n",
       "    </tr>\n",
       "    <tr>\n",
       "      <th>...</th>\n",
       "      <td>...</td>\n",
       "      <td>...</td>\n",
       "      <td>...</td>\n",
       "    </tr>\n",
       "    <tr>\n",
       "      <th>69</th>\n",
       "      <td>0.74</td>\n",
       "      <td>1</td>\n",
       "      <td>0.000010</td>\n",
       "    </tr>\n",
       "    <tr>\n",
       "      <th>9</th>\n",
       "      <td>0.91</td>\n",
       "      <td>1</td>\n",
       "      <td>0.000010</td>\n",
       "    </tr>\n",
       "    <tr>\n",
       "      <th>58</th>\n",
       "      <td>0.95</td>\n",
       "      <td>1</td>\n",
       "      <td>0.000010</td>\n",
       "    </tr>\n",
       "    <tr>\n",
       "      <th>47</th>\n",
       "      <td>0.87</td>\n",
       "      <td>1</td>\n",
       "      <td>0.000010</td>\n",
       "    </tr>\n",
       "    <tr>\n",
       "      <th>30</th>\n",
       "      <td>0.85</td>\n",
       "      <td>1</td>\n",
       "      <td>0.000010</td>\n",
       "    </tr>\n",
       "  </tbody>\n",
       "</table>\n",
       "<p>91 rows × 3 columns</p>\n",
       "</div>"
      ],
      "text/plain": [
       "     ctr  users         p\n",
       "21  0.20   4977  0.051662\n",
       "57  0.25   4298  0.044614\n",
       "39  0.16   4111  0.042673\n",
       "6   0.18   4015  0.041676\n",
       "83  0.21   3799  0.039434\n",
       "..   ...    ...       ...\n",
       "69  0.74      1  0.000010\n",
       "9   0.91      1  0.000010\n",
       "58  0.95      1  0.000010\n",
       "47  0.87      1  0.000010\n",
       "30  0.85      1  0.000010\n",
       "\n",
       "[91 rows x 3 columns]"
      ]
     },
     "execution_count": 79,
     "metadata": {},
     "output_type": "execute_result"
    }
   ],
   "source": [
    "ctr_distribution.sort_values(by = 'p', ascending = False)"
   ]
  },
  {
   "cell_type": "code",
   "execution_count": 80,
   "id": "c9e5c5a6",
   "metadata": {},
   "outputs": [],
   "source": [
    "probabilities = ctr_distribution['p']\n",
    "values = ctr_distribution['ctr']"
   ]
  },
  {
   "cell_type": "code",
   "execution_count": 81,
   "id": "ed98be19",
   "metadata": {},
   "outputs": [],
   "source": [
    "# вместо значений использую индексы \n",
    "distrib = stats.rv_discrete(values=(range(len(probabilities)), probabilities))"
   ]
  },
  {
   "cell_type": "code",
   "execution_count": 82,
   "id": "f7213deb",
   "metadata": {},
   "outputs": [],
   "source": [
    "# здесь используют значения \n",
    "# создает дискретное распределения на основе заданных значений \n",
    "# значениями являются просмотры и распределния просмотров на пользователя \n",
    "views_distr = stats.rv_discrete(name='views_distr', \n",
    "                                values=(views_distribution['views'], \n",
    "                                        views_distribution['p']))"
   ]
  },
  {
   "cell_type": "code",
   "execution_count": 83,
   "id": "8ebc7a66",
   "metadata": {},
   "outputs": [],
   "source": [
    "# функцию get_ctrs, которая генерирует двумерный массив значений \n",
    "# на основе дискретного распределения\n",
    "def get_ctrs(x, y, distrib, values):\n",
    "    idx = distrib.rvs(size=x*y) #Генерирует одномерный массив случайных индексов длиной x*y\n",
    "    result = values[idx] #Извлекает значения из массива values на основе сгенерированных индексов idx\n",
    "    return np.array(result).reshape(x,y) #Преобразует одномерный массив result в двумерный массив формы (x, y) и возвращает его"
   ]
  },
  {
   "cell_type": "code",
   "execution_count": 84,
   "id": "b9139c1e",
   "metadata": {},
   "outputs": [
    {
     "data": {
      "text/plain": [
       "array([[0.24, 0.14, 0.27, ..., 0.18, 0.25, 0.43],\n",
       "       [0.12, 0.14, 0.3 , ..., 0.17, 0.22, 0.41],\n",
       "       [0.16, 0.15, 0.23, ..., 0.1 , 0.25, 0.21],\n",
       "       ...,\n",
       "       [0.12, 0.11, 0.28, ..., 0.33, 0.17, 0.28],\n",
       "       [0.12, 0.32, 0.17, ..., 0.21, 0.33, 0.23],\n",
       "       [0.32, 0.26, 0.12, ..., 0.16, 0.13, 0.2 ]])"
      ]
     },
     "execution_count": 84,
     "metadata": {},
     "output_type": "execute_result"
    }
   ],
   "source": [
    "#Функция вернет двумерный массив размером 2000x2000,\n",
    "# заполненный значениями CTR,\n",
    "# выбранными на основе их вероятностей в распределении distrib.\n",
    "get_ctrs(2000, 2000, distrib, values)"
   ]
  },
  {
   "cell_type": "markdown",
   "id": "a947c8f3",
   "metadata": {},
   "source": [
    "# Синтетический А-А тест"
   ]
  },
  {
   "cell_type": "code",
   "execution_count": 54,
   "id": "18c59ffa",
   "metadata": {},
   "outputs": [],
   "source": [
    "q = \"\"\"\n",
    "select \n",
    "   stddevPop(ctr) as ctr_std\n",
    "from (select toDate(time) as dt, \n",
    "    exp_group,\n",
    "    user_id,\n",
    "    sum(action = 'like')/sum(action = 'view') as ctr\n",
    "from simulator_20240620.feed_actions \n",
    "where dt between '2024-05-31' and '2024-06-06'\n",
    "    and exp_group in (0,1,2,3,4)\n",
    "group by dt, exp_group, user_id\n",
    ")\n",
    "\n",
    "\"\"\"\n",
    "\n",
    "std = ph.read_clickhouse(q, connection=connection).values[0][0]"
   ]
  },
  {
   "cell_type": "code",
   "execution_count": 58,
   "id": "b2216735",
   "metadata": {},
   "outputs": [],
   "source": [
    "std = 0.0960210145931454"
   ]
  },
  {
   "cell_type": "code",
   "execution_count": 56,
   "id": "99f95dc7",
   "metadata": {},
   "outputs": [],
   "source": [
    "def compute_sample_size_abs(epsilon, std1, std2, alpha=0.05, beta=0.2):\n",
    "    t_alpha = norm.ppf(1 - alpha / 2, loc=0, scale=1)\n",
    "    t_beta = norm.ppf(1 - beta, loc=0, scale=1)\n",
    "    z_scores_sum_squared = (t_alpha + t_beta) ** 2\n",
    "    sample_size = int(\n",
    "        np.ceil(\n",
    "            z_scores_sum_squared * (std1 ** 2 + std2 ** 2) / (epsilon ** 2)\n",
    "        )\n",
    "    )\n",
    "    return sample_size"
   ]
  },
  {
   "cell_type": "code",
   "execution_count": 59,
   "id": "d54cf9a5",
   "metadata": {},
   "outputs": [
    {
     "data": {
      "text/plain": [
       "1448"
      ]
     },
     "execution_count": 59,
     "metadata": {},
     "output_type": "execute_result"
    }
   ],
   "source": [
    "compute_sample_size_abs(0.01, std, std)"
   ]
  },
  {
   "cell_type": "code",
   "execution_count": 85,
   "id": "8d708562",
   "metadata": {},
   "outputs": [],
   "source": [
    "group_A_views = views_distr.rvs(size = (2000, 2000)).astype(\"int32\")\n",
    "group_B_views = views_distr.rvs(size = (2000, 2000)).astype(\"int32\")\n",
    "group_A_ctr = get_ctrs(2000, 2000, distrib, values)*1.05\n",
    "group_B_ctr = get_ctrs(2000,2000, distrib, values)"
   ]
  },
  {
   "cell_type": "code",
   "execution_count": 62,
   "id": "386b51d9",
   "metadata": {},
   "outputs": [
    {
     "ename": "ValueError",
     "evalue": "Domain error in arguments.",
     "output_type": "error",
     "traceback": [
      "\u001b[1;31m---------------------------------------------------------------------------\u001b[0m",
      "\u001b[1;31mValueError\u001b[0m                                Traceback (most recent call last)",
      "Input \u001b[1;32mIn [62]\u001b[0m, in \u001b[0;36m<cell line: 1>\u001b[1;34m()\u001b[0m\n\u001b[1;32m----> 1\u001b[0m clicks_A \u001b[38;5;241m=\u001b[39m \u001b[43mstats\u001b[49m\u001b[38;5;241;43m.\u001b[39;49m\u001b[43mbinom\u001b[49m\u001b[38;5;241;43m.\u001b[39;49m\u001b[43mrvs\u001b[49m\u001b[43m(\u001b[49m\u001b[43mgroup_A_views\u001b[49m\u001b[43m,\u001b[49m\u001b[43m \u001b[49m\u001b[43mgroup_A_ctr\u001b[49m\u001b[43m)\u001b[49m\n\u001b[0;32m      2\u001b[0m clicks_B \u001b[38;5;241m=\u001b[39m stats\u001b[38;5;241m.\u001b[39mbinom\u001b[38;5;241m.\u001b[39mrvs(group_B_views, group_B_ctr)\n",
      "File \u001b[1;32m~\\anaconda3\\lib\\site-packages\\scipy\\stats\\_distn_infrastructure.py:3117\u001b[0m, in \u001b[0;36mrv_discrete.rvs\u001b[1;34m(self, *args, **kwargs)\u001b[0m\n\u001b[0;32m   3088\u001b[0m \u001b[38;5;124;03m\"\"\"Random variates of given type.\u001b[39;00m\n\u001b[0;32m   3089\u001b[0m \n\u001b[0;32m   3090\u001b[0m \u001b[38;5;124;03mParameters\u001b[39;00m\n\u001b[1;32m   (...)\u001b[0m\n\u001b[0;32m   3114\u001b[0m \n\u001b[0;32m   3115\u001b[0m \u001b[38;5;124;03m\"\"\"\u001b[39;00m\n\u001b[0;32m   3116\u001b[0m kwargs[\u001b[38;5;124m'\u001b[39m\u001b[38;5;124mdiscrete\u001b[39m\u001b[38;5;124m'\u001b[39m] \u001b[38;5;241m=\u001b[39m \u001b[38;5;28;01mTrue\u001b[39;00m\n\u001b[1;32m-> 3117\u001b[0m \u001b[38;5;28;01mreturn\u001b[39;00m \u001b[38;5;28msuper\u001b[39m()\u001b[38;5;241m.\u001b[39mrvs(\u001b[38;5;241m*\u001b[39margs, \u001b[38;5;241m*\u001b[39m\u001b[38;5;241m*\u001b[39mkwargs)\n",
      "File \u001b[1;32m~\\anaconda3\\lib\\site-packages\\scipy\\stats\\_distn_infrastructure.py:1067\u001b[0m, in \u001b[0;36mrv_generic.rvs\u001b[1;34m(self, *args, **kwds)\u001b[0m\n\u001b[0;32m   1065\u001b[0m cond \u001b[38;5;241m=\u001b[39m logical_and(\u001b[38;5;28mself\u001b[39m\u001b[38;5;241m.\u001b[39m_argcheck(\u001b[38;5;241m*\u001b[39margs), (scale \u001b[38;5;241m>\u001b[39m\u001b[38;5;241m=\u001b[39m \u001b[38;5;241m0\u001b[39m))\n\u001b[0;32m   1066\u001b[0m \u001b[38;5;28;01mif\u001b[39;00m \u001b[38;5;129;01mnot\u001b[39;00m np\u001b[38;5;241m.\u001b[39mall(cond):\n\u001b[1;32m-> 1067\u001b[0m     \u001b[38;5;28;01mraise\u001b[39;00m \u001b[38;5;167;01mValueError\u001b[39;00m(\u001b[38;5;124m\"\u001b[39m\u001b[38;5;124mDomain error in arguments.\u001b[39m\u001b[38;5;124m\"\u001b[39m)\n\u001b[0;32m   1069\u001b[0m \u001b[38;5;28;01mif\u001b[39;00m np\u001b[38;5;241m.\u001b[39mall(scale \u001b[38;5;241m==\u001b[39m \u001b[38;5;241m0\u001b[39m):\n\u001b[0;32m   1070\u001b[0m     \u001b[38;5;28;01mreturn\u001b[39;00m loc\u001b[38;5;241m*\u001b[39mones(size, \u001b[38;5;124m'\u001b[39m\u001b[38;5;124md\u001b[39m\u001b[38;5;124m'\u001b[39m)\n",
      "\u001b[1;31mValueError\u001b[0m: Domain error in arguments."
     ]
    }
   ],
   "source": [
    "clicks_A = stats.binom.rvs(group_A_views, group_A_ctr)"
   ]
  },
  {
   "cell_type": "code",
   "execution_count": 86,
   "id": "3a22df8a",
   "metadata": {},
   "outputs": [
    {
     "name": "stdout",
     "output_type": "stream",
     "text": [
      "Минимальное значение в group_A_views: 1\n",
      "Максимальное значение в group_A_views: 359\n",
      "Минимальное значение в group_A_ctr: 0.0\n",
      "Максимальное значение в group_A_ctr: inf\n"
     ]
    }
   ],
   "source": [
    "print(\"Минимальное значение в group_A_views:\", group_A_views.min())\n",
    "print(\"Максимальное значение в group_A_views:\", group_A_views.max())\n",
    "print(\"Минимальное значение в group_A_ctr:\", group_A_ctr.min())\n",
    "print(\"Максимальное значение в group_A_ctr:\", group_A_ctr.max())"
   ]
  },
  {
   "cell_type": "code",
   "execution_count": 87,
   "id": "fc58431a",
   "metadata": {},
   "outputs": [
    {
     "data": {
      "text/plain": [
       "array([inf, inf, inf, inf, inf, inf, inf, inf, inf, inf, inf, inf, inf,\n",
       "       inf, inf, inf, inf, inf, inf, inf, inf, inf, inf, inf, inf, inf,\n",
       "       inf, inf, inf, inf, inf, inf, inf, inf, inf, inf, inf, inf, inf,\n",
       "       inf, inf, inf, inf, inf, inf, inf, inf, inf, inf, inf, inf, inf,\n",
       "       inf, inf, inf, inf, inf, inf, inf, inf, inf, inf, inf, inf, inf,\n",
       "       inf, inf, inf, inf, inf, inf, inf, inf, inf, inf, inf, inf, inf,\n",
       "       inf, inf, inf, inf])"
      ]
     },
     "execution_count": 87,
     "metadata": {},
     "output_type": "execute_result"
    }
   ],
   "source": [
    "group_A_ctr[group_A_ctr > 1]"
   ]
  },
  {
   "cell_type": "code",
   "execution_count": 71,
   "id": "6d33ad22",
   "metadata": {},
   "outputs": [
    {
     "name": "stdout",
     "output_type": "stream",
     "text": [
      "Тип данных group_A_views: int32\n",
      "Тип данных group_A_ctr: float64\n"
     ]
    }
   ],
   "source": [
    "print(\"Тип данных group_A_views:\", group_A_views.dtype)\n",
    "print(\"Тип данных group_A_ctr:\", group_A_ctr.dtype)"
   ]
  },
  {
   "cell_type": "code",
   "execution_count": 68,
   "id": "180a4466",
   "metadata": {},
   "outputs": [],
   "source": [
    "def t_test(a, b):\n",
    "    \"\"\"\n",
    "    Считает p-value для t-теста с двусторонней альтернативой \n",
    "    :param a: np.array вида (n_experiments, n_users), значения метрик в контрольных группах\n",
    "    :param b: np.array вида (n_experiments, n_users), значения метрик в тестовых группах\n",
    "    :return: np.array вида (n_experiments), посчитанные p-value t-теста для всего списка экспериментов\n",
    "    \"\"\"\n",
    "    result = list(map(lambda x: stats.ttest_ind(\n",
    "        x[0], x[1], equal_var=False).pvalue, zip(a, b)))\n",
    "    return np.array(result)"
   ]
  },
  {
   "cell_type": "code",
   "execution_count": null,
   "id": "b54ef5ae",
   "metadata": {},
   "outputs": [],
   "source": [
    "np.sum(t_test(clicks_A/group_A_views, clicks_B/group_B_views)<= 0.05)/2000"
   ]
  },
  {
   "cell_type": "code",
   "execution_count": null,
   "id": "3ba20144",
   "metadata": {},
   "outputs": [],
   "source": []
  },
  {
   "cell_type": "code",
   "execution_count": null,
   "id": "37e564c5",
   "metadata": {},
   "outputs": [],
   "source": [
    "q = \"\"\"\n",
    "select \n",
    "   stddevPop(ctr) as ctr_std\n",
    "from (select toDate(time) as dt, \n",
    "    exp_group,\n",
    "    user_id,\n",
    "    sum(action = 'like')/sum(action = 'view') as ctr\n",
    "from simulator_20240620.feed_actions \n",
    "where dt between '2024-05-31' and '2024-06-06'\n",
    "    and exp_group in (0,1,2,3,4)\n",
    "group by dt, exp_group, user_id\n",
    ")\n",
    "\n",
    "\"\"\""
   ]
  },
  {
   "cell_type": "code",
   "execution_count": null,
   "id": "38bec0dc",
   "metadata": {},
   "outputs": [],
   "source": [
    "q = \"\"\"\n",
    "select \n",
    "   floor(ctr, 2) as ctr, count() as users\n",
    "from (select toDate(time) as dt, \n",
    "    exp_group,\n",
    "    user_id,\n",
    "    sum(action = 'like')/sum(action = 'view') as ctr\n",
    "from simulator_20240620.feed_actions \n",
    "where dt between '2024-05-31' and '2024-06-06'\n",
    "    and exp_group in (0,1,2,3,4)\n",
    "group by dt, exp_group, user_id\n",
    ")\n",
    "group by ctr\n",
    "\"\"\""
   ]
  },
  {
   "cell_type": "code",
   "execution_count": null,
   "id": "255ad802",
   "metadata": {},
   "outputs": [],
   "source": [
    "q = \"\"\"\n",
    "select views, count() as users\n",
    "from (select  \n",
    "    user_id,\n",
    "    sum(action = 'view') as views\n",
    "from simulator_20240620.feed_actions \n",
    "where toDate(time) between '2024-05-31' and '2024-06-06'\n",
    "group by user_id\n",
    ")\n",
    "group by views\n",
    "order by views\n",
    "\"\"\""
   ]
  },
  {
   "cell_type": "code",
   "execution_count": null,
   "id": "5a99aebd",
   "metadata": {},
   "outputs": [],
   "source": []
  }
 ],
 "metadata": {
  "kernelspec": {
   "display_name": "Python 3 (ipykernel)",
   "language": "python",
   "name": "python3"
  },
  "language_info": {
   "codemirror_mode": {
    "name": "ipython",
    "version": 3
   },
   "file_extension": ".py",
   "mimetype": "text/x-python",
   "name": "python",
   "nbconvert_exporter": "python",
   "pygments_lexer": "ipython3",
   "version": "3.9.12"
  }
 },
 "nbformat": 4,
 "nbformat_minor": 5
}
