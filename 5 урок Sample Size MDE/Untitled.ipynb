{
 "cells": [
  {
   "cell_type": "markdown",
   "id": "dd67bd77",
   "metadata": {},
   "source": [
    "# Размер выборки по формуле "
   ]
  },
  {
   "cell_type": "code",
   "execution_count": null,
   "id": "2ed03d8e",
   "metadata": {},
   "outputs": [],
   "source": [
    "q = \"\"\"\n",
    "select \n",
    "   stddevPop(ctr) as ctr_std\n",
    "from (select toDate(time) as dt, \n",
    "    user_id,\n",
    "    sum(action = 'like')/sum(action = 'view') as ctr\n",
    "from simulator_20240620.feed_actions \n",
    "where toDate(time) between '2024-06-21' and '2024-06-27'\n",
    "group by dt, user_id\n",
    ")\n",
    "\"\"\"\n",
    "\n",
    "std = ph.read_clickhouse(q, connection=connection).values[0][0]"
   ]
  },
  {
   "cell_type": "code",
   "execution_count": null,
   "id": "1069a15e",
   "metadata": {},
   "outputs": [],
   "source": [
    "def compute_sample_size_abs(epsilon, std1, std2, alpha=0.05, beta=0.2):\n",
    "    t_alpha = norm.ppf(1 - alpha / 2, loc=0, scale=1)\n",
    "    t_beta = norm.ppf(1 - beta, loc=0, scale=1)\n",
    "    z_scores_sum_squared = (t_alpha + t_beta) ** 2\n",
    "    sample_size = int(\n",
    "        np.ceil(\n",
    "            z_scores_sum_squared * (std1 ** 2 + std2 ** 2) / (epsilon ** 2)\n",
    "        )\n",
    "    )\n",
    "    return sample_size"
   ]
  },
  {
   "cell_type": "code",
   "execution_count": null,
   "id": "b753f560",
   "metadata": {},
   "outputs": [],
   "source": [
    "Алгоритм добавляет пользователям 1-2 просмотра<br> \n",
    "Вероятность того, что он сработает, составляет 90%<br>\n",
    "Если у пользователя меньше 50 просмотров, то алгоритм не сработает"
   ]
  },
  {
   "cell_type": "code",
   "execution_count": null,
   "id": "2dcd8534",
   "metadata": {},
   "outputs": [],
   "source": [
    "group_B_views + ((1 + np.binomial(n=1, p=0.5, size=размер_выборки)) \\\n",
    "                 * np.binomial(n=1, p=0.9, size=размер_выборки) \\\n",
    "                 * (group_B_views >= 50))"
   ]
  },
  {
   "cell_type": "code",
   "execution_count": null,
   "id": "4606567b",
   "metadata": {},
   "outputs": [],
   "source": []
  },
  {
   "cell_type": "code",
   "execution_count": null,
   "id": "d54594b2",
   "metadata": {},
   "outputs": [],
   "source": []
  },
  {
   "cell_type": "code",
   "execution_count": null,
   "id": "d0f1fdae",
   "metadata": {},
   "outputs": [],
   "source": []
  },
  {
   "cell_type": "code",
   "execution_count": null,
   "id": "a12394ce",
   "metadata": {},
   "outputs": [],
   "source": []
  },
  {
   "cell_type": "code",
   "execution_count": null,
   "id": "98286529",
   "metadata": {},
   "outputs": [],
   "source": []
  },
  {
   "cell_type": "code",
   "execution_count": null,
   "id": "3a44b5b3",
   "metadata": {},
   "outputs": [],
   "source": []
  }
 ],
 "metadata": {
  "kernelspec": {
   "display_name": "Python 3 (ipykernel)",
   "language": "python",
   "name": "python3"
  },
  "language_info": {
   "codemirror_mode": {
    "name": "ipython",
    "version": 3
   },
   "file_extension": ".py",
   "mimetype": "text/x-python",
   "name": "python",
   "nbconvert_exporter": "python",
   "pygments_lexer": "ipython3",
   "version": "3.9.12"
  }
 },
 "nbformat": 4,
 "nbformat_minor": 5
}
