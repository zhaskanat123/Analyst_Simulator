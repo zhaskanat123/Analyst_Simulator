{
 "cells": [
  {
   "cell_type": "code",
   "execution_count": 1,
   "id": "a2370d87",
   "metadata": {},
   "outputs": [],
   "source": [
    "import pandahouse \n",
    "import pandas as pd\n",
    "import numpy as np\n",
    "import seaborn as sns\n",
    "from scipy import stats \n",
    "import matplotlib.pyplot as plt \n",
    "from scipy.stats import norm, ttest_ind\n",
    "from tqdm import tqdm\n",
    "%matplotlib inline"
   ]
  },
  {
   "cell_type": "code",
   "execution_count": 68,
   "id": "0ac582c3",
   "metadata": {},
   "outputs": [],
   "source": [
    "connection = {\n",
    "    'host': 'https://clickhouse.lab.karpov.courses',\n",
    "    'password': 'dpo_python_2020',\n",
    "    'user': 'student',\n",
    "    'database': 'simulator'\n",
    "}\n",
    "'2024-05-24'  '2024-05-30'"
   ]
  },
  {
   "cell_type": "code",
   "execution_count": 69,
   "id": "106ba6b2",
   "metadata": {},
   "outputs": [],
   "source": [
    "q = \"\"\"\n",
    "select COUNT(DISTINCT user_id) as total_number\n",
    "from simulator_20240620.feed_actions \n",
    "where toDate(time) between '2024-06-21' and '2024-06-27'\n",
    "\"\"\"\n",
    "\n",
    "users_number = pandahouse.read_clickhouse(q, connection=connection)"
   ]
  },
  {
   "cell_type": "code",
   "execution_count": 70,
   "id": "012b1883",
   "metadata": {},
   "outputs": [
    {
     "data": {
      "text/plain": [
       "0    34463.0\n",
       "Name: total_number, dtype: float64"
      ]
     },
     "execution_count": 70,
     "metadata": {},
     "output_type": "execute_result"
    }
   ],
   "source": [
    "# Размер выборки \n",
    "# Количество всех пользователей за неделю/2\n",
    "users_number.total_number/2"
   ]
  },
  {
   "cell_type": "code",
   "execution_count": 71,
   "id": "2edf2a2a",
   "metadata": {},
   "outputs": [],
   "source": [
    "rng = np.random.default_rng()"
   ]
  },
  {
   "cell_type": "code",
   "execution_count": 72,
   "id": "9222cde8",
   "metadata": {},
   "outputs": [],
   "source": [
    "# Распределения просмотров \n",
    "q = \"\"\"\n",
    "select views, count() as users\n",
    "from (select  \n",
    "    user_id,\n",
    "    sum(action = 'view') as views\n",
    "from simulator_20240620.feed_actions \n",
    "where toDate(time) between '2024-06-21' and '2024-06-27'\n",
    "group by user_id\n",
    ")\n",
    "group by views\n",
    "order by views\n",
    "\"\"\"\n",
    "\n",
    "\n",
    "views_distribution = pandahouse.read_clickhouse(q, connection=connection)"
   ]
  },
  {
   "cell_type": "code",
   "execution_count": 73,
   "id": "6b7aba2f",
   "metadata": {},
   "outputs": [],
   "source": [
    "views_distribution['p'] = views_distribution['users']/views_distribution.users.sum()"
   ]
  },
  {
   "cell_type": "code",
   "execution_count": 74,
   "id": "014ff2f4",
   "metadata": {},
   "outputs": [],
   "source": [
    "# Распределения  пользовательские CTR\n",
    "q = \"\"\"\n",
    "select \n",
    "   floor(ctr, 2) as ctr, count() as users\n",
    "from (select toDate(time) as dt, \n",
    "    user_id,\n",
    "    sum(action = 'like')/sum(action = 'view') as ctr\n",
    "from simulator_20240620.feed_actions \n",
    "where toDate(time) between '2024-06-21' and '2024-06-27'\n",
    "group by dt, user_id\n",
    ")\n",
    "group by ctr\n",
    "\"\"\"\n",
    "\n",
    "ctr_distribution = pandahouse.read_clickhouse(q, connection=connection)"
   ]
  },
  {
   "cell_type": "code",
   "execution_count": 75,
   "id": "ac8e450b",
   "metadata": {},
   "outputs": [],
   "source": [
    "ctr_distribution['p'] = ctr_distribution['users']/ctr_distribution.users.sum()"
   ]
  },
  {
   "cell_type": "code",
   "execution_count": 76,
   "id": "8735cad6",
   "metadata": {},
   "outputs": [],
   "source": [
    "p_values_t = []"
   ]
  },
  {
   "cell_type": "code",
   "execution_count": 77,
   "id": "c0402ff7",
   "metadata": {},
   "outputs": [
    {
     "name": "stderr",
     "output_type": "stream",
     "text": [
      "100%|████████████████████████████████████████████████████████████████████████████| 20000/20000 [08:57<00:00, 37.18it/s]\n"
     ]
    }
   ],
   "source": [
    "#они же через цикл\n",
    "for _ in tqdm(range(20000)):\n",
    "    # сэмплируем данные просмотров на основе распределения просмотров \n",
    "    group_A_views = rng.choice(views_distribution['views'].astype(np.int64), size=34463, replace=True, p=views_distribution['p'])\n",
    "    group_B_views = rng.choice(views_distribution['views'].astype(np.int64), size=34463, replace=True, p=views_distribution['p'])\n",
    "    \n",
    "    # сэмплируем данные ctr на основе распределения ctr \n",
    "    group_A_ctr = rng.choice(ctr_distribution['ctr'], size=34463, replace=True, p=ctr_distribution['p'])\n",
    "    group_B_ctr = rng.choice(ctr_distribution['ctr'], size=34463, replace=True, p=ctr_distribution['p'])\n",
    "    \n",
    "    # дабавляем эффект от алгоритма к нашим просмотрам\n",
    "    group_B_views = group_B_views + ((1 + rng.binomial(n=1, p=0.5, size=34463)) \\\n",
    "                                 * rng.binomial(n=1, p=0.9, size=34463) \\\n",
    "                                 * (group_B_views >= 50))\n",
    "    group_B_views = group_B_views.astype(\"int64\")\n",
    "    \n",
    "    # симуляции биномиального распределения \n",
    "    clicks_A = rng.binomial(group_A_views, group_A_ctr)\n",
    "    clicks_B = rng.binomial(group_B_views, group_B_ctr) \n",
    "    \n",
    "    # собираем все значения p value в строку \n",
    "    p_values_t.append(stats.ttest_ind(clicks_A/group_A_views, clicks_B/group_B_views, equal_var=False).pvalue)"
   ]
  },
  {
   "cell_type": "code",
   "execution_count": 80,
   "id": "b2eaded0",
   "metadata": {},
   "outputs": [
    {
     "data": {
      "text/plain": [
       "4.8950000000000005"
      ]
     },
     "execution_count": 80,
     "metadata": {},
     "output_type": "execute_result"
    }
   ],
   "source": [
    "np.mean(np.array(p_values_t) < 0.05) * 100"
   ]
  },
  {
   "cell_type": "code",
   "execution_count": 64,
   "id": "ab4ec1a6",
   "metadata": {},
   "outputs": [
    {
     "data": {
      "text/plain": [
       "4.26196251470254"
      ]
     },
     "execution_count": 64,
     "metadata": {},
     "output_type": "execute_result"
    }
   ],
   "source": [
    "sum_of_p_t * 100"
   ]
  },
  {
   "cell_type": "code",
   "execution_count": 65,
   "id": "b72dab5f",
   "metadata": {},
   "outputs": [
    {
     "data": {
      "text/plain": [
       "4.261810031981848"
      ]
     },
     "execution_count": 65,
     "metadata": {},
     "output_type": "execute_result"
    }
   ],
   "source": [
    "sum_of_p_m * 100"
   ]
  },
  {
   "cell_type": "code",
   "execution_count": 66,
   "id": "050be924",
   "metadata": {},
   "outputs": [],
   "source": [
    "def power_calc(sample_size, views_df, ctr_df, threshold, nsim=1000):\n",
    "    \"\"\"\n",
    "    Считает мощность для t-теста при заданных параметрах распределения и эффекта\n",
    "    :param sample_size: размер выборок\n",
    "    :param views_df: датафрейм со значениями просмотров и их вероятностями\n",
    "    :param ctr_df: датафрейм со значениями прользовательских CTR и их вероятностями\n",
    "    :param threshold: порог просмотров, после которого начинает действовать алгоритм\n",
    "    :param nsim: количество симуляций (по умолчанию 1000)\n",
    "    :return: значение мощности от 0 до 1\n",
    "    \"\"\"\n",
    "\n",
    "    pvalues = [] #список, куда мы будем складывать p-value\n",
    "    rng = np.random.default_rng() #генератор случайных чисел\n",
    "\n",
    "    #симуляируем и сравниваем выборки nsim раз:\n",
    "\n",
    "    for _ in tqdm(range(nsim)):\n",
    "\n",
    "        #симулируем просмотры\n",
    "        group_A_views = rng.choice(a=views_df.views, size=sample_size, replace=True, p=views_df.p).astype(\"int64\")\n",
    "        group_B_views = rng.choice(a=views_df.views, size=sample_size, replace=True, p=views_df.p).astype(\"int64\")\n",
    "\n",
    "        #симулируем эффект в тестовой группе\n",
    "        group_B_views = group_B_views + (rng.binomial(n=1, p=0.9, size=sample_size) * (1 + rng.binomial(n=1, p=0.5, size=sample_size)) * (group_B_views >= threshold))\n",
    "        group_B_views = group_B_views.astype(\"int64\")\n",
    "\n",
    "        #симулируем CTR\n",
    "        group_A_ctr = rng.choice(a=ctr_df.ctr, size=sample_size, replace=True, p=ctr_df.p)\n",
    "        group_B_ctr = rng.choice(a=ctr_df.ctr, size=sample_size, replace=True, p=ctr_df.p)\n",
    "\n",
    "        #симулируем лайки\n",
    "        clicks_A = rng.binomial(n=group_A_views, p=group_A_ctr)\n",
    "        clicks_B = rng.binomial(n=group_B_views, p=group_B_ctr)\n",
    "\n",
    "        #сравниваем t-тестом и сохраняем p-value\n",
    "        pvalues.append(ttest_ind(clicks_A, clicks_B, equal_var=False).pvalue)\n",
    "\n",
    "    #возвращаем мощность\n",
    "    return np.mean(np.array(pvalues) < 0.05)"
   ]
  },
  {
   "cell_type": "code",
   "execution_count": 67,
   "id": "f3278889",
   "metadata": {},
   "outputs": [
    {
     "name": "stderr",
     "output_type": "stream",
     "text": [
      "  4%|██▊                                                                           | 725/20000 [00:18<08:17, 38.78it/s]\n"
     ]
    },
    {
     "ename": "KeyboardInterrupt",
     "evalue": "",
     "output_type": "error",
     "traceback": [
      "\u001b[1;31m---------------------------------------------------------------------------\u001b[0m",
      "\u001b[1;31mKeyboardInterrupt\u001b[0m                         Traceback (most recent call last)",
      "Input \u001b[1;32mIn [67]\u001b[0m, in \u001b[0;36m<cell line: 1>\u001b[1;34m()\u001b[0m\n\u001b[1;32m----> 1\u001b[0m \u001b[43mpower_calc\u001b[49m\u001b[43m(\u001b[49m\u001b[43msample_size\u001b[49m\u001b[38;5;241;43m=\u001b[39;49m\u001b[38;5;241;43m34463\u001b[39;49m\u001b[43m,\u001b[49m\u001b[43m \u001b[49m\u001b[43mviews_df\u001b[49m\u001b[38;5;241;43m=\u001b[39;49m\u001b[43mviews_distribution\u001b[49m\u001b[43m,\u001b[49m\u001b[43m \u001b[49m\u001b[43mctr_df\u001b[49m\u001b[38;5;241;43m=\u001b[39;49m\u001b[43mctr_distribution\u001b[49m\u001b[43m,\u001b[49m\u001b[43m \u001b[49m\u001b[43mthreshold\u001b[49m\u001b[38;5;241;43m=\u001b[39;49m\u001b[38;5;241;43m50\u001b[39;49m\u001b[43m,\u001b[49m\u001b[43m \u001b[49m\u001b[43mnsim\u001b[49m\u001b[38;5;241;43m=\u001b[39;49m\u001b[38;5;241;43m20000\u001b[39;49m\u001b[43m)\u001b[49m\n",
      "Input \u001b[1;32mIn [66]\u001b[0m, in \u001b[0;36mpower_calc\u001b[1;34m(sample_size, views_df, ctr_df, threshold, nsim)\u001b[0m\n\u001b[0;32m     29\u001b[0m group_B_ctr \u001b[38;5;241m=\u001b[39m rng\u001b[38;5;241m.\u001b[39mchoice(a\u001b[38;5;241m=\u001b[39mctr_df\u001b[38;5;241m.\u001b[39mctr, size\u001b[38;5;241m=\u001b[39msample_size, replace\u001b[38;5;241m=\u001b[39m\u001b[38;5;28;01mTrue\u001b[39;00m, p\u001b[38;5;241m=\u001b[39mctr_df\u001b[38;5;241m.\u001b[39mp)\n\u001b[0;32m     31\u001b[0m \u001b[38;5;66;03m#симулируем лайки\u001b[39;00m\n\u001b[1;32m---> 32\u001b[0m clicks_A \u001b[38;5;241m=\u001b[39m \u001b[43mrng\u001b[49m\u001b[38;5;241;43m.\u001b[39;49m\u001b[43mbinomial\u001b[49m\u001b[43m(\u001b[49m\u001b[43mn\u001b[49m\u001b[38;5;241;43m=\u001b[39;49m\u001b[43mgroup_A_views\u001b[49m\u001b[43m,\u001b[49m\u001b[43m \u001b[49m\u001b[43mp\u001b[49m\u001b[38;5;241;43m=\u001b[39;49m\u001b[43mgroup_A_ctr\u001b[49m\u001b[43m)\u001b[49m\n\u001b[0;32m     33\u001b[0m clicks_B \u001b[38;5;241m=\u001b[39m rng\u001b[38;5;241m.\u001b[39mbinomial(n\u001b[38;5;241m=\u001b[39mgroup_B_views, p\u001b[38;5;241m=\u001b[39mgroup_B_ctr)\n\u001b[0;32m     35\u001b[0m \u001b[38;5;66;03m#сравниваем t-тестом и сохраняем p-value\u001b[39;00m\n",
      "\u001b[1;31mKeyboardInterrupt\u001b[0m: "
     ]
    }
   ],
   "source": [
    "power_calc(sample_size=34463, views_df=views_distribution, ctr_df=ctr_distribution, threshold=50, nsim=20000)"
   ]
  },
  {
   "cell_type": "code",
   "execution_count": null,
   "id": "bedf3bb6",
   "metadata": {},
   "outputs": [],
   "source": []
  }
 ],
 "metadata": {
  "kernelspec": {
   "display_name": "Python 3 (ipykernel)",
   "language": "python",
   "name": "python3"
  },
  "language_info": {
   "codemirror_mode": {
    "name": "ipython",
    "version": 3
   },
   "file_extension": ".py",
   "mimetype": "text/x-python",
   "name": "python",
   "nbconvert_exporter": "python",
   "pygments_lexer": "ipython3",
   "version": "3.9.12"
  }
 },
 "nbformat": 4,
 "nbformat_minor": 5
}
