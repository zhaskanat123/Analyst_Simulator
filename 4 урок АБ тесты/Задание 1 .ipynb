{
 "cells": [
  {
   "cell_type": "code",
   "execution_count": 1,
   "id": "e0631d9c",
   "metadata": {},
   "outputs": [],
   "source": [
    "import pandahouse\n",
    "import hashlib\n",
    "import seaborn as sns\n",
    "import numpy as np\n",
    "from scipy import stats\n",
    "import matplotlib.pyplot as plt"
   ]
  },
  {
   "cell_type": "code",
   "execution_count": 2,
   "id": "d0755c77",
   "metadata": {},
   "outputs": [],
   "source": [
    "def ab_split(id, salt='exp_mess_1', n_groups=5):\n",
    "    test_id = str(id) + '-' + str(salt)\n",
    "    test_id_digest = hashlib.md5(test_id.encode('ascii')).hexdigest()\n",
    "    test_id_final_int = int(test_id_digest, 16)\n",
    "    return test_id_final_int % n_groups"
   ]
  },
  {
   "cell_type": "code",
   "execution_count": 2,
   "id": "ecc4bc09",
   "metadata": {},
   "outputs": [],
   "source": [
    "connection = {\n",
    "    'host': 'https://clickhouse.lab.karpov.courses',\n",
    "    'password': 'dpo_python_2020',\n",
    "    'user': 'student',\n",
    "    'database': 'simulator'\n",
    "}\n",
    "\n",
    "q = \"\"\"\n",
    "SELECT exp_group, \n",
    "    user_id,\n",
    "    sum(action = 'like') as likes,\n",
    "    sum(action = 'view') as views,\n",
    "    likes/views as ctr\n",
    "FROM simulator_20240620.feed_actions  \n",
    "WHERE toDate(time) between '2024-05-24' and '2024-05-30'\n",
    "    and exp_group in (2,3)\n",
    "GROUP BY exp_group, user_id\n",
    "\"\"\"\n",
    "\n",
    "df = pandahouse.read_clickhouse(q, connection=connection)"
   ]
  },
  {
   "cell_type": "code",
   "execution_count": 5,
   "id": "dfd8dece",
   "metadata": {},
   "outputs": [],
   "source": [
    "p_values = []\n",
    "for i in range(10000):\n",
    "    subsample_2 = np.random.choice(df[df.exp_group == 2].ctr, size=500, replace=False)\n",
    "    subsample_3 = np.random.choice(df[df.exp_group == 3].ctr, size=500, replace=False)\n",
    "    p_values.append(stats.ttest_ind(subsample_2, subsample_3, equal_var=False).pvalue)"
   ]
  },
  {
   "cell_type": "markdown",
   "id": "c13e8724",
   "metadata": {},
   "source": [
    "1. Построить гистограмму распределения получившихся 10000 p-values."
   ]
  },
  {
   "cell_type": "code",
   "execution_count": 6,
   "id": "a4f64b0b",
   "metadata": {},
   "outputs": [
    {
     "data": {
      "text/plain": [
       "(array([322., 309., 349., 330., 326., 313., 341., 318., 339., 343., 308.,\n",
       "        297., 355., 334., 353., 298., 362., 352., 334., 366., 355., 317.,\n",
       "        321., 334., 350., 351., 319., 338., 348., 318.]),\n",
       " array([5.60354649e-07, 3.33308120e-02, 6.66610637e-02, 9.99913154e-02,\n",
       "        1.33321567e-01, 1.66651819e-01, 1.99982070e-01, 2.33312322e-01,\n",
       "        2.66642574e-01, 2.99972825e-01, 3.33303077e-01, 3.66633329e-01,\n",
       "        3.99963580e-01, 4.33293832e-01, 4.66624084e-01, 4.99954336e-01,\n",
       "        5.33284587e-01, 5.66614839e-01, 5.99945091e-01, 6.33275342e-01,\n",
       "        6.66605594e-01, 6.99935846e-01, 7.33266097e-01, 7.66596349e-01,\n",
       "        7.99926601e-01, 8.33256852e-01, 8.66587104e-01, 8.99917356e-01,\n",
       "        9.33247607e-01, 9.66577859e-01, 9.99908111e-01]),\n",
       " <BarContainer object of 30 artists>)"
      ]
     },
     "execution_count": 6,
     "metadata": {},
     "output_type": "execute_result"
    },
    {
     "data": {
      "image/png": "[encoded data removed]",
      "text/plain": [
       "<Figure size 432x288 with 1 Axes>"
      ]
     },
     "metadata": {
      "needs_background": "light"
     },
     "output_type": "display_data"
    }
   ],
   "source": [
    "plt.hist(p_values, bins=30, color='skyblue', edgecolor='black')"
   ]
  },
  {
   "cell_type": "markdown",
   "id": "d5f39b34",
   "metadata": {},
   "source": [
    "2. Посчитать, какой процент p values оказался меньше либо равен 0.05"
   ]
  },
  {
   "cell_type": "code",
   "execution_count": 8,
   "id": "3664b08b",
   "metadata": {},
   "outputs": [
    {
     "name": "stdout",
     "output_type": "stream",
     "text": [
      "4.7%\n"
     ]
    }
   ],
   "source": [
    "print(f'{len([i for i in p_values if i <= 0.05]) / len(p_values) * 100}%')"
   ]
  },
  {
   "cell_type": "markdown",
   "id": "a4c29e25",
   "metadata": {},
   "source": [
    "3. Написать вывод по проведенному А/А-тесту, корректно ли работает наша система сплитования. При выполнении задания важно обосновать и аргументировать ваш вывод."
   ]
  },
  {
   "cell_type": "markdown",
   "id": "417a89ec",
   "metadata": {},
   "source": [
    "Вывод по А/А тесту: меньше 4.7% процента наших значений оказались меньше значения 0.05, а также исходя из графика можно заметить что распределения p значения находятся на одном уровне. Наше система сплитования работает корректно "
   ]
  }
 ],
 "metadata": {
  "kernelspec": {
   "display_name": "Python 3 (ipykernel)",
   "language": "python",
   "name": "python3"
  },
  "language_info": {
   "codemirror_mode": {
    "name": "ipython",
    "version": 3
   },
   "file_extension": ".py",
   "mimetype": "text/x-python",
   "name": "python",
   "nbconvert_exporter": "python",
   "pygments_lexer": "ipython3",
   "version": "3.9.12"
  }
 },
 "nbformat": 4,
 "nbformat_minor": 5
}
