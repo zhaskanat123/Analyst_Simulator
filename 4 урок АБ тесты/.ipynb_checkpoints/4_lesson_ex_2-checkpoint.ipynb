{
 "cells": [
  {
   "cell_type": "code",
   "execution_count": 3,
   "id": "d7d6e9ed-9f8d-4f5f-a4f0-266241470b26",
   "metadata": {},
   "outputs": [],
   "source": [
    "import pandahouse\n",
    "import hashlib\n",
    "import seaborn as sns\n",
    "import numpy as np\n",
    "from scipy import stats\n",
    "import matplotlib.pyplot as plt"
   ]
  },
  {
   "cell_type": "code",
   "execution_count": 24,
   "id": "a8331ea2-c6f2-418a-a34a-d14d8fcbf523",
   "metadata": {},
   "outputs": [],
   "source": [
    "connection = {\n",
    "    'host': 'https://clickhouse.lab.karpov.courses',\n",
    "    'password': 'dpo_python_2020',\n",
    "    'user': 'student',\n",
    "    'database': 'simulator'\n",
    "}\n",
    "\n",
    "q = \"\"\"\n",
    "SELECT exp_group, \n",
    "    user_id,\n",
    "    sum(action = 'like') as likes,\n",
    "    sum(action = 'view') as views,\n",
    "    likes/views as ctr\n",
    "FROM simulator_20240620.feed_actions  \n",
    "WHERE toDate(time) between '2024-05-31' and '2024-06-06'\n",
    "    and exp_group in (1,2)\n",
    "GROUP BY exp_group, user_id\n",
    "\"\"\"\n",
    "\n",
    "df = pandahouse.read_clickhouse(q, connection=connection)"
   ]
  },
  {
   "cell_type": "markdown",
   "id": "424d4e73-0c74-407d-a72a-834302112521",
   "metadata": {},
   "source": [
    "2 группа - тестовая новый алгоритм<br>\n",
    "1 группа - контрольная старый алгоритм "
   ]
  },
  {
   "cell_type": "code",
   "execution_count": 7,
   "id": "125eeb6f-cd54-4e2d-b0a6-85cab1c326e1",
   "metadata": {},
   "outputs": [
    {
     "data": {
      "text/plain": [
       "exp_group\n",
       "1    10020\n",
       "2     9877\n",
       "Name: count, dtype: int64"
      ]
     },
     "execution_count": 7,
     "metadata": {},
     "output_type": "execute_result"
    }
   ],
   "source": [
    "df.exp_group.value_counts()"
   ]
  },
  {
   "cell_type": "code",
   "execution_count": 8,
   "id": "2d9549aa-3f9b-4abc-b2ca-22d85621c9e0",
   "metadata": {},
   "outputs": [
    {
     "data": {
      "text/plain": [
       "(0.216773994120072, 0.2161016893237817)"
      ]
     },
     "execution_count": 8,
     "metadata": {},
     "output_type": "execute_result"
    }
   ],
   "source": [
    "#Посмотрим на среднее значения ctr у обоих групп \n",
    "df[df.exp_group == 1].ctr.mean(), df[df.exp_group == 2].ctr.mean()"
   ]
  },
  {
   "cell_type": "markdown",
   "id": "e2c720b8-696f-4da9-80ea-1b69689e619d",
   "metadata": {},
   "source": [
    "Выбрать метод анализа и сравнить CTR в двух группах (мы разбирали t-тест, Пуассоновский бутстреп, тест Манна-Уитни, t-тест на сглаженном ctr (α=5) а также t-тест и тест Манна-Уитни поверх бакетного преобразования)."
   ]
  },
  {
   "cell_type": "code",
   "execution_count": 9,
   "id": "a00266d0-c4d3-488a-a801-50386ffa343e",
   "metadata": {},
   "outputs": [
    {
     "data": {
      "text/plain": [
       "Ttest_indResult(statistic=0.4051491913112757, pvalue=0.685373331140751)"
      ]
     },
     "execution_count": 9,
     "metadata": {},
     "output_type": "execute_result"
    }
   ],
   "source": [
    "# t-тест\n",
    "stats.ttest_ind(df[df.exp_group == 1].ctr,\n",
    "                df[df.exp_group == 2].ctr,\n",
    "                equal_var=False)"
   ]
  },
  {
   "cell_type": "code",
   "execution_count": 10,
   "id": "4bef3344-e90d-44ed-907a-1e3177f22704",
   "metadata": {},
   "outputs": [
    {
     "data": {
      "text/plain": [
       "MannwhitneyuResult(statistic=55189913.0, pvalue=4.632205841806026e-45)"
      ]
     },
     "execution_count": 10,
     "metadata": {},
     "output_type": "execute_result"
    }
   ],
   "source": [
    "# тест Манна-Уитни\n",
    "stats.mannwhitneyu(df[df.exp_group == 1].ctr,\n",
    "                 df[df.exp_group == 2].ctr,\n",
    "                 alternative = 'two-sided')"
   ]
  },
  {
   "cell_type": "code",
   "execution_count": 11,
   "id": "3d65ef78-b260-4297-82c8-a3c62c46f354",
   "metadata": {},
   "outputs": [],
   "source": [
    "# t-тест на сглаженном ctr (α=5)\n",
    "def get_smothed_ctr(user_likes, user_views, global_ctr, alpha):\n",
    "    smothed_ctr = (user_likes + alpha * global_ctr) / (user_views + alpha)\n",
    "    return smothed_ctr"
   ]
  },
  {
   "cell_type": "code",
   "execution_count": 12,
   "id": "e22b872f-f725-4084-94ff-70ca0b6d1a81",
   "metadata": {},
   "outputs": [],
   "source": [
    "global_ctr_1 = df[df.exp_group == 1].likes.sum()/df[df.exp_group == 1].views.sum()\n",
    "global_ctr_2 = df[df.exp_group == 2].likes.sum()/df[df.exp_group == 2].views.sum()"
   ]
  },
  {
   "cell_type": "code",
   "execution_count": 13,
   "id": "59233f5f-a960-4a63-a166-4c3747130b64",
   "metadata": {},
   "outputs": [],
   "source": [
    "group1 = df[df.exp_group == 1].copy()\n",
    "group1['smothed_ctr'] = df.apply(lambda x: get_smothed_ctr(x['likes'], x['views'], global_ctr_1, 5), axis=1)"
   ]
  },
  {
   "cell_type": "code",
   "execution_count": 14,
   "id": "6acb991d-9b55-4ff3-9d08-0592767e978f",
   "metadata": {},
   "outputs": [],
   "source": [
    "group2 = df[df.exp_group == 2].copy()\n",
    "group2['smothed_ctr'] = df.apply(lambda x: get_smothed_ctr(x['likes'], x['views'], global_ctr_2, 5), axis=1)"
   ]
  },
  {
   "cell_type": "code",
   "execution_count": 15,
   "id": "7343e63b-d16f-45a6-8486-a0ba91bb0e5c",
   "metadata": {},
   "outputs": [
    {
     "data": {
      "text/plain": [
       "Ttest_indResult(statistic=1.9460491517027683, pvalue=0.05166679015318526)"
      ]
     },
     "execution_count": 15,
     "metadata": {},
     "output_type": "execute_result"
    }
   ],
   "source": [
    "stats.ttest_ind(group1['smothed_ctr'],\n",
    "                group2['smothed_ctr'],\n",
    "                equal_var=False)"
   ]
  },
  {
   "cell_type": "code",
   "execution_count": 16,
   "id": "740c2d81-91f8-41ed-8be9-208b2d36f6f9",
   "metadata": {},
   "outputs": [],
   "source": [
    "# Пуассоновский бутстреп\n",
    "def bootstrap(likes1, views1, likes2, views2, n_bootstrap=2000):\n",
    "    poisson_bootstraps1 = stats.poisson(1).rvs(\n",
    "    (n_bootstrap, len(likes1))).astype(np.int64)\n",
    "    poisson_bootstraps2 = stats.poisson(1).rvs(\n",
    "    (n_bootstrap, len(likes2))).astype(np.int64)\n",
    "    globalCTR1 = (poisson_bootstraps1*likes1).sum(axis=1)/(poisson_bootstraps1*views1).sum(axis=1)\n",
    "    globalCTR2 = (poisson_bootstraps2*likes2).sum(axis=1)/(poisson_bootstraps2*views2).sum(axis=1)\n",
    "    return globalCTR1, globalCTR2\n",
    "\n",
    "likes1 = df[df.exp_group == 1].likes.to_numpy()\n",
    "views1 = df[df.exp_group == 1].views.to_numpy()\n",
    "likes2 = df[df.exp_group == 2].likes.to_numpy()\n",
    "views2 = df[df.exp_group == 2].views.to_numpy()\n",
    "\n",
    "ctr1, ctr2 = bootstrap(likes1, views1, likes2, views2)"
   ]
  },
  {
   "cell_type": "code",
   "execution_count": 17,
   "id": "3e9ca00a-ffb3-4ece-9dec-f052e05ef1fe",
   "metadata": {},
   "outputs": [
    {
     "data": {
      "text/plain": [
       "<Axes: ylabel='Count'>"
      ]
     },
     "execution_count": 17,
     "metadata": {},
     "output_type": "execute_result"
    },
    {
     "data": {
      "image/png": "[encoded data removed]",
      "text/plain": [
       "<Figure size 432x288 with 1 Axes>"
      ]
     },
     "metadata": {
      "needs_background": "light"
     },
     "output_type": "display_data"
    }
   ],
   "source": [
    "sns.histplot(ctr1)\n",
    "sns.histplot(ctr2)"
   ]
  },
  {
   "cell_type": "code",
   "execution_count": 18,
   "id": "a9620cda-dba6-4fd4-ae43-7af89e3fbde8",
   "metadata": {},
   "outputs": [
    {
     "data": {
      "text/plain": [
       "<Axes: ylabel='Count'>"
      ]
     },
     "execution_count": 18,
     "metadata": {},
     "output_type": "execute_result"
    },
    {
     "data": {
      "image/png": "[encoded data removed]",
      "text/plain": [
       "<Figure size 432x288 with 1 Axes>"
      ]
     },
     "metadata": {
      "needs_background": "light"
     },
     "output_type": "display_data"
    }
   ],
   "source": [
    "#Разница между глобальными CTR\n",
    "sns.histplot(ctr1 - ctr2)"
   ]
  },
  {
   "cell_type": "code",
   "execution_count": 19,
   "id": "c04fb58e-92a6-48d1-b0b3-5e209ef2bfb7",
   "metadata": {},
   "outputs": [],
   "source": [
    "#t-тест и тест Манна-Уитни поверх бакетного преобразования\n",
    "q = \"\"\"\n",
    "\n",
    "    SELECT exp_group, bucket,\n",
    "           sum(likes)/sum(views) as bucket_ctr,\n",
    "           quantileExact(0.9)(ctr) as ctr9\n",
    "    FROM (SELECT exp_group,\n",
    "          xxHash64(user_id)%50 as bucket,\n",
    "          user_id,\n",
    "          sum(action = 'like') as likes,\n",
    "          sum(action = 'view') as views,\n",
    "          likes/views as ctr\n",
    "    FROM simulator_20240620.feed_actions \n",
    "    WHERE toDate(time) between '2024-05-31' and '2024-06-06'\n",
    "          and exp_group in (1,2)\n",
    "    GROUP BY exp_group, bucket, user_id)\n",
    "    GROUP BY exp_group, bucket\n",
    "\"\"\"\n",
    "\n",
    "df = pandahouse.read_clickhouse(q, connection=connection)"
   ]
  },
  {
   "cell_type": "code",
   "execution_count": 20,
   "id": "ec42c854-0393-448a-8eb0-70d48b5c990b",
   "metadata": {},
   "outputs": [
    {
     "data": {
      "text/plain": [
       "MannwhitneyuResult(statistic=1997.0, pvalue=2.6576427804010095e-07)"
      ]
     },
     "execution_count": 20,
     "metadata": {},
     "output_type": "execute_result"
    }
   ],
   "source": [
    "#тест Манна-Уитни видит отличие\n",
    "\n",
    "stats.mannwhitneyu(df[df.exp_group == 1].bucket_ctr,\n",
    "                   df[df.exp_group == 2].bucket_ctr,\n",
    "                   alternative = 'two-sided')"
   ]
  },
  {
   "cell_type": "code",
   "execution_count": 21,
   "id": "f99bdf40-36be-4c5c-9c2c-65d5e6112c85",
   "metadata": {},
   "outputs": [
    {
     "data": {
      "text/plain": [
       "Ttest_indResult(statistic=5.614819358149381, pvalue=4.592644937473873e-07)"
      ]
     },
     "execution_count": 21,
     "metadata": {},
     "output_type": "execute_result"
    }
   ],
   "source": [
    "#и t-тест тоже\n",
    "stats.ttest_ind(df[df.exp_group == 1].bucket_ctr,\n",
    "                df[df.exp_group == 2].bucket_ctr,\n",
    "                equal_var = False)"
   ]
  },
  {
   "cell_type": "markdown",
   "id": "e085ff9a-32b7-4a15-b94c-460a6dd51ea0",
   "metadata": {},
   "source": [
    "Сравните данные этими тестами. А еще посмотрите на распределения глазами. Почему тесты сработали именно так?<br>\n",
    "Ответ: Почти все тесты дали статистический значисый результат, кроме т-тест. Причина этому может быть ненармальность наших данных. У второй экспериментальной группы два пика и данные распределены ненармально."
   ]
  },
  {
   "cell_type": "code",
   "execution_count": 25,
   "id": "d11d9c75-7591-423c-8492-10f85bfa68fe",
   "metadata": {},
   "outputs": [
    {
     "data": {
      "image/png": "[encoded data removed]",
      "text/plain": [
       "<Figure size 842.4x595.44 with 1 Axes>"
      ]
     },
     "metadata": {},
     "output_type": "display_data"
    }
   ],
   "source": [
    "sns.set(rc={'figure.figsize':(11.7,8.27)})\n",
    "\n",
    "groups = sns.histplot(data = df, \n",
    "              x='ctr', \n",
    "              hue='exp_group', \n",
    "              palette = ['r', 'b'],\n",
    "              alpha=0.5,\n",
    "              kde=False)"
   ]
  },
  {
   "cell_type": "markdown",
   "id": "3119703b-f3ce-4d1f-94ab-4dbc67d40775",
   "metadata": {},
   "source": [
    "Опишите потенциальную ситуацию, когда такое изменение могло произойти. Тут нет идеального ответа, подумайте.<br>\n",
    "Как можно заметить по распределению наш новый алгоритм разделил ctr, на два пика, тоесть для некторых пользвателей ctr стал больше, для некоторых он ухудшился. Мое предположение что новый алгортим действует на двух разных групп по разному. Может быть кому-то понравилось когда показывают рекомендации постов друзей, кому-то нет. "
   ]
  },
  {
   "cell_type": "markdown",
   "id": "a8d31141-7928-4f33-966e-0d24ce1f3533",
   "metadata": {},
   "source": [
    "Напишите рекомендацию, будем ли мы раскатывать новый алгоритм на всех новых пользователей или все-таки не стоит.<br>\n",
    "Мне кажется не стоит раскатывать новый алгоритм, так как мы еще не знаем как он действует на разных польователей. Нужно сперва узнать для каких пользователей ctr улучшился, для каких ухудшился. Дальше нужно будет доработать алгоритм, с учетом этиъ особенностей "
   ]
  }
 ],
 "metadata": {
  "kernelspec": {
   "display_name": "Python 3 (ipykernel)",
   "language": "python",
   "name": "python3"
  },
  "language_info": {
   "codemirror_mode": {
    "name": "ipython",
    "version": 3
   },
   "file_extension": ".py",
   "mimetype": "text/x-python",
   "name": "python",
   "nbconvert_exporter": "python",
   "pygments_lexer": "ipython3",
   "version": "3.9.12"
  }
 },
 "nbformat": 4,
 "nbformat_minor": 5
}
