{
 "cells": [
  {
   "cell_type": "code",
   "execution_count": 1,
   "id": "3734e9ad-0d86-4b21-95bf-104b05f66ec4",
   "metadata": {},
   "outputs": [],
   "source": [
    "import pandahouse\n",
    "import hashlib\n",
    "import seaborn as sns\n",
    "import numpy as np\n",
    "from scipy import stats\n",
    "import matplotlib.pyplot as plt"
   ]
  },
  {
   "cell_type": "markdown",
   "id": "0bc4134c-9702-4527-b5bf-1fc3300540cd",
   "metadata": {},
   "source": [
    "Проанализируйте тест между группами 0 и 3 по метрике линеаризованных лайков. Видно ли отличие? Стало ли 𝑝−𝑣𝑎𝑙𝑢𝑒 меньше по сравнению с обычным CTR?"
   ]
  },
  {
   "cell_type": "code",
   "execution_count": 18,
   "id": "30be908b-7855-41c5-a5e5-457877f5b4c8",
   "metadata": {},
   "outputs": [],
   "source": [
    "connection = {\n",
    "    'host': 'https://clickhouse.lab.karpov.courses',\n",
    "    'password': 'dpo_python_2020',\n",
    "    'user': 'student',\n",
    "    'database': 'simulator'\n",
    "}\n",
    "\n",
    "q = \"\"\"\n",
    "SELECT exp_group, \n",
    "    user_id,\n",
    "    sum(action = 'like') as likes,\n",
    "    sum(action = 'view') as views,\n",
    "    likes/views as ctr\n",
    "FROM simulator_20240620.feed_actions  \n",
    "WHERE toDate(time) between '2024-05-31' and '2024-06-06'\n",
    "    and exp_group in (0,3)\n",
    "GROUP BY exp_group, user_id\n",
    "\"\"\"\n",
    "\n",
    "df = pandahouse.read_clickhouse(q, connection=connection)"
   ]
  },
  {
   "cell_type": "markdown",
   "id": "df0614eb-d3e9-417a-ba88-c703d3ceb517",
   "metadata": {},
   "source": [
    "exp_group = 0 – Все по-старому\n",
    "exp_group = 3 - Рекомендации \"постов, которые лайкали похожие на вас люди\""
   ]
  },
  {
   "cell_type": "markdown",
   "id": "4f9452e4-7ffe-4707-a32e-ac422982430f",
   "metadata": {},
   "source": [
    "Считаем общий CTR в контрольной группе  𝐶𝑇𝑅𝑐𝑜𝑛𝑡𝑟𝑜𝑙=𝑠𝑢𝑚(𝑙𝑖𝑘𝑒𝑠)/𝑠𝑢𝑚(𝑣𝑖𝑒𝑤𝑠)"
   ]
  },
  {
   "cell_type": "code",
   "execution_count": 7,
   "id": "eecd66f4-e113-4bd7-a984-97336036f5ab",
   "metadata": {},
   "outputs": [],
   "source": [
    "CTR_control = sum(df.loc[df.exp_group == 0].likes) / sum(df.loc[df.exp_group == 0].views)"
   ]
  },
  {
   "cell_type": "markdown",
   "id": "ffe1bf11-57c7-49f1-a889-cdbc8866fe39",
   "metadata": {},
   "source": [
    "Посчитаем в обеих группах поюзерную метрику  𝑙𝑖𝑛𝑒𝑎𝑟𝑖𝑧𝑒𝑑_𝑙𝑖𝑘𝑒𝑠=𝑙𝑖𝑘𝑒𝑠−𝐶𝑇𝑅𝑐𝑜𝑛𝑡𝑟𝑜𝑙∗𝑣𝑖𝑒𝑤𝑠 "
   ]
  },
  {
   "cell_type": "code",
   "execution_count": 9,
   "id": "06a57b4b-954d-4c38-aac2-ae79a19bc2c8",
   "metadata": {},
   "outputs": [],
   "source": [
    "linearized_likes_0 = df.loc[df.exp_group == 0].likes - CTR_control * df.loc[df.exp_group == 0].views "
   ]
  },
  {
   "cell_type": "code",
   "execution_count": 10,
   "id": "7455acbc-8ca5-4b50-969f-df9ad740b07d",
   "metadata": {},
   "outputs": [],
   "source": [
    "linearized_likes_3 = df.loc[df.exp_group == 3].likes - CTR_control * df.loc[df.exp_group == 3].views "
   ]
  },
  {
   "cell_type": "markdown",
   "id": "8cffe59b-1cec-4e0f-9d2b-1ed216d0f164",
   "metadata": {},
   "source": [
    "После чего сравним  t-тестом отличия в группах по метрике 𝑙𝑖𝑛𝑒𝑎𝑟𝑖𝑧𝑒𝑑_𝑙𝑖𝑘𝑒𝑠"
   ]
  },
  {
   "cell_type": "code",
   "execution_count": 11,
   "id": "5cb42aef-93f2-408e-9ffd-af3ae8455e56",
   "metadata": {},
   "outputs": [
    {
     "data": {
      "text/plain": [
       "Ttest_indResult(statistic=-16.186230032932844, pvalue=1.4918137745326139e-58)"
      ]
     },
     "execution_count": 11,
     "metadata": {},
     "output_type": "execute_result"
    }
   ],
   "source": [
    "stats.ttest_ind(linearized_likes_0,\n",
    "                linearized_likes_3,\n",
    "                equal_var=False)"
   ]
  },
  {
   "cell_type": "code",
   "execution_count": 19,
   "id": "968e9b6d-a593-4af7-952b-168a3748c1fb",
   "metadata": {},
   "outputs": [
    {
     "data": {
      "text/plain": [
       "Ttest_indResult(statistic=-13.935320516755773, pvalue=6.216047483062228e-44)"
      ]
     },
     "execution_count": 19,
     "metadata": {},
     "output_type": "execute_result"
    }
   ],
   "source": [
    "stats.ttest_ind(df[df.exp_group == 0].ctr,\n",
    "                df[df.exp_group == 3].ctr,\n",
    "                equal_var=False)"
   ]
  },
  {
   "cell_type": "code",
   "execution_count": 20,
   "id": "e994a203-5a06-4327-93a0-0f974230358d",
   "metadata": {},
   "outputs": [
    {
     "data": {
      "image/png": "[encoded data removed]",
      "text/plain": [
       "<Figure size 432x288 with 1 Axes>"
      ]
     },
     "metadata": {
      "needs_background": "light"
     },
     "output_type": "display_data"
    }
   ],
   "source": [
    "# Сделаем графики в seaborn покрупнее\n",
    "sns.set(rc={'figure.figsize':(11.7,8.27)})\n",
    "groups = sns.histplot(data = df,\n",
    "                      x='ctr',\n",
    "                      hue='exp_group',\n",
    "                      palette = ['r', 'b'],\n",
    "                      alpha=0.5,\n",
    "                      kde=False)"
   ]
  },
  {
   "cell_type": "markdown",
   "id": "f93fb937-fc07-420c-9f3a-18314a77abd3",
   "metadata": {},
   "source": [
    "Как можно заметить значения т теста в обоих случаях, статистически значемый поэтому мы можем что разность в экспериментальных гурппах есть. По графику распределения видно что у двух групп нормальное распределение. Именно поэтому нет значимых различий в p значениях"
   ]
  },
  {
   "cell_type": "code",
   "execution_count": 21,
   "id": "f729ae28-ca5a-4b85-b318-47924a5647b8",
   "metadata": {},
   "outputs": [],
   "source": [
    "connection = {\n",
    "    'host': 'https://clickhouse.lab.karpov.courses',\n",
    "    'password': 'dpo_python_2020',\n",
    "    'user': 'student',\n",
    "    'database': 'simulator'\n",
    "}\n",
    "\n",
    "q = \"\"\"\n",
    "SELECT exp_group, \n",
    "    user_id,\n",
    "    sum(action = 'like') as likes,\n",
    "    sum(action = 'view') as views,\n",
    "    likes/views as ctr\n",
    "FROM simulator_20240620.feed_actions  \n",
    "WHERE toDate(time) between '2024-05-31' and '2024-06-06'\n",
    "    and exp_group in (1,2)\n",
    "GROUP BY exp_group, user_id\n",
    "\"\"\"\n",
    "\n",
    "df = pandahouse.read_clickhouse(q, connection=connection)"
   ]
  },
  {
   "cell_type": "markdown",
   "id": "866b8bdb-e965-4aa7-9469-ce27ede175ef",
   "metadata": {},
   "source": [
    "exp_group = 1 - Все по-старому\n",
    "exp_group = 2 - Рекомендации \"похожих на лайкнутые постов\""
   ]
  },
  {
   "cell_type": "code",
   "execution_count": 13,
   "id": "68fcdcce-8538-4ca7-b455-43782d675fd5",
   "metadata": {},
   "outputs": [],
   "source": [
    "CTR_control = sum(df.loc[df.exp_group == 1].likes) / sum(df.loc[df.exp_group == 1].views)"
   ]
  },
  {
   "cell_type": "code",
   "execution_count": 14,
   "id": "987299f0-97cf-46a4-b105-460d44f97ce4",
   "metadata": {},
   "outputs": [],
   "source": [
    "linearized_likes_1 = df.loc[df.exp_group == 1].likes - CTR_control * df.loc[df.exp_group == 1].views "
   ]
  },
  {
   "cell_type": "code",
   "execution_count": 15,
   "id": "e4d21cd8-3e82-49e2-942e-f2f6f0c9efb0",
   "metadata": {},
   "outputs": [],
   "source": [
    "linearized_likes_2 = df.loc[df.exp_group == 2].likes - CTR_control * df.loc[df.exp_group == 2].views "
   ]
  },
  {
   "cell_type": "code",
   "execution_count": 16,
   "id": "5fb7fec4-c744-4383-941e-faa3b172409a",
   "metadata": {},
   "outputs": [
    {
     "data": {
      "text/plain": [
       "Ttest_indResult(statistic=5.936377101934478, pvalue=2.9805064038668388e-09)"
      ]
     },
     "execution_count": 16,
     "metadata": {},
     "output_type": "execute_result"
    }
   ],
   "source": [
    "stats.ttest_ind(linearized_likes_1,\n",
    "                linearized_likes_2,\n",
    "                equal_var=False)"
   ]
  },
  {
   "cell_type": "code",
   "execution_count": 22,
   "id": "5b4847f3-2f30-40d8-8607-bbd3fe4d243f",
   "metadata": {},
   "outputs": [
    {
     "data": {
      "text/plain": [
       "Ttest_indResult(statistic=0.4051491913112757, pvalue=0.685373331140751)"
      ]
     },
     "execution_count": 22,
     "metadata": {},
     "output_type": "execute_result"
    }
   ],
   "source": [
    "# t-тест\n",
    "stats.ttest_ind(df[df.exp_group == 1].ctr,\n",
    "                df[df.exp_group == 2].ctr,\n",
    "                equal_var=False)"
   ]
  },
  {
   "cell_type": "code",
   "execution_count": 23,
   "id": "c75fd70e-de85-446b-93d5-2526f59bcfc7",
   "metadata": {},
   "outputs": [
    {
     "data": {
      "image/png": "[encoded data removed]",
      "text/plain": [
       "<Figure size 842.4x595.44 with 1 Axes>"
      ]
     },
     "metadata": {},
     "output_type": "display_data"
    }
   ],
   "source": [
    "# Сделаем графики в seaborn покрупнее\n",
    "sns.set(rc={'figure.figsize':(11.7,8.27)})\n",
    "groups = sns.histplot(data = df,\n",
    "                      x='ctr',\n",
    "                      hue='exp_group',\n",
    "                      palette = ['r', 'b'],\n",
    "                      alpha=0.5,\n",
    "                      kde=False)"
   ]
  },
  {
   "cell_type": "markdown",
   "id": "50b0bbe4-50c9-4bdc-beb0-3c3faecd80a0",
   "metadata": {},
   "source": [
    "p значения при обычном ctr не показал значимых разлиций, но новый метод показал достаточно маленькое p значения. Все из-за ненармольнасти данных в второй экспериментальной группы. Следовательно можно предположить что данный метод эффективен когда наши данные ненармальны. "
   ]
  },
  {
   "cell_type": "code",
   "execution_count": null,
   "id": "91d9ffcc-8574-4493-b9a8-ef93ce837fce",
   "metadata": {},
   "outputs": [],
   "source": []
  }
 ],
 "metadata": {
  "kernelspec": {
   "display_name": "Python 3 (ipykernel)",
   "language": "python",
   "name": "python3"
  },
  "language_info": {
   "codemirror_mode": {
    "name": "ipython",
    "version": 3
   },
   "file_extension": ".py",
   "mimetype": "text/x-python",
   "name": "python",
   "nbconvert_exporter": "python",
   "pygments_lexer": "ipython3",
   "version": "3.9.12"
  }
 },
 "nbformat": 4,
 "nbformat_minor": 5
}
