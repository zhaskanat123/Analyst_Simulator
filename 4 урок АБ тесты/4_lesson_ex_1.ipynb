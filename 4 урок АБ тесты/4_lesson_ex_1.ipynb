{
 "cells": [
  {
   "cell_type": "code",
   "execution_count": 7,
   "id": "92a31c92-4d2a-457f-a719-682ef6d8d513",
   "metadata": {},
   "outputs": [],
   "source": [
    "import pandahouse\n",
    "import hashlib\n",
    "import seaborn as sns\n",
    "import numpy as np\n",
    "from scipy import stats\n",
    "import matplotlib.pyplot as plt"
   ]
  },
  {
   "cell_type": "code",
   "execution_count": 8,
   "id": "96f1bdab-bff8-4261-8b76-e6a02701675e",
   "metadata": {},
   "outputs": [],
   "source": [
    "def ab_split(id, salt='exp_mess_1', n_groups=5):\n",
    "    test_id = str(id) + '-' + str(salt)\n",
    "    test_id_digest = hashlib.md5(test_id.encode('ascii')).hexdigest()\n",
    "    test_id_final_int = int(test_id_digest, 16)\n",
    "    return test_id_final_int % n_groups"
   ]
  },
  {
   "cell_type": "code",
   "execution_count": 9,
   "id": "16e70a0e-e202-41cc-adbc-fd76fa719eba",
   "metadata": {},
   "outputs": [],
   "source": [
    "connection = {\n",
    "    'host': 'https://clickhouse.lab.karpov.courses',\n",
    "    'password': 'dpo_python_2020',\n",
    "    'user': 'student',\n",
    "    'database': 'simulator'\n",
    "}\n",
    "\n",
    "q = \"\"\"\n",
    "SELECT exp_group, \n",
    "    user_id,\n",
    "    sum(action = 'like') as likes,\n",
    "    sum(action = 'view') as views,\n",
    "    likes/views as ctr\n",
    "FROM simulator_20240620.feed_actions  \n",
    "WHERE toDate(time) between '2024-05-24' and '2024-05-30'\n",
    "    and exp_group in (2,3)\n",
    "GROUP BY exp_group, user_id\n",
    "\"\"\"\n",
    "\n",
    "df = pandahouse.read_clickhouse(q, connection=connection)"
   ]
  },
  {
   "cell_type": "code",
   "execution_count": 10,
   "id": "61dfac1c-be3b-4569-9874-803b8d00aba7",
   "metadata": {},
   "outputs": [],
   "source": [
    "p_values = []\n",
    "for i in range(10000):\n",
    "    subsample_2 = np.random.choice(df[df.exp_group == 2].ctr, size=500, replace=False)\n",
    "    subsample_3 = np.random.choice(df[df.exp_group == 3].ctr, size=500, replace=False)\n",
    "    p_values.append(stats.ttest_ind(subsample_2, subsample_3, equal_var=False).pvalue)"
   ]
  },
  {
   "cell_type": "markdown",
   "id": "61774d90-0a54-41d0-93c6-4153ccce912c",
   "metadata": {},
   "source": [
    "1. Построить гистограмму распределения получившихся 10000 p-values."
   ]
  },
  {
   "cell_type": "code",
   "execution_count": 11,
   "id": "5995c71f-d4e7-4896-add4-7585db4f9333",
   "metadata": {},
   "outputs": [
    {
     "data": {
      "text/plain": [
       "(array([332., 303., 339., 330., 322., 346., 323., 346., 303., 311., 346.,\n",
       "        324., 320., 343., 334., 347., 343., 353., 333., 339., 353., 324.,\n",
       "        341., 333., 336., 363., 304., 317., 345., 347.]),\n",
       " array([8.57586075e-04, 3.41564338e-02, 6.74552816e-02, 1.00754129e-01,\n",
       "        1.34052977e-01, 1.67351825e-01, 2.00650673e-01, 2.33949520e-01,\n",
       "        2.67248368e-01, 3.00547216e-01, 3.33846064e-01, 3.67144911e-01,\n",
       "        4.00443759e-01, 4.33742607e-01, 4.67041455e-01, 5.00340302e-01,\n",
       "        5.33639150e-01, 5.66937998e-01, 6.00236846e-01, 6.33535693e-01,\n",
       "        6.66834541e-01, 7.00133389e-01, 7.33432237e-01, 7.66731084e-01,\n",
       "        8.00029932e-01, 8.33328780e-01, 8.66627628e-01, 8.99926475e-01,\n",
       "        9.33225323e-01, 9.66524171e-01, 9.99823019e-01]),\n",
       " <BarContainer object of 30 artists>)"
      ]
     },
     "execution_count": 11,
     "metadata": {},
     "output_type": "execute_result"
    },
    {
     "data": {
      "image/png": "[encoded data removed]",
      "text/plain": [
       "<Figure size 432x288 with 1 Axes>"
      ]
     },
     "metadata": {
      "needs_background": "light"
     },
     "output_type": "display_data"
    }
   ],
   "source": [
    "plt.hist(p_values, bins=30, color='skyblue', edgecolor='black')"
   ]
  },
  {
   "cell_type": "markdown",
   "id": "29e20e55-50b8-4d8d-a79b-204e79d71427",
   "metadata": {},
   "source": [
    "2. Посчитать, какой процент p values оказался меньше либо равен 0.05"
   ]
  },
  {
   "cell_type": "code",
   "execution_count": 12,
   "id": "7d445725-372d-4169-beb5-ca93db3b0a07",
   "metadata": {},
   "outputs": [
    {
     "name": "stdout",
     "output_type": "stream",
     "text": [
      "4.87%\n"
     ]
    }
   ],
   "source": [
    "print(f'{len([i for i in p_values if i <= 0.05]) / len(p_values) * 100}%')"
   ]
  },
  {
   "cell_type": "markdown",
   "id": "fafedb86-79ed-468f-b868-a173063c4cad",
   "metadata": {},
   "source": [
    "3. Написать вывод по проведенному А/А-тесту, корректно ли работает наша система сплитования. При выполнении задания важно обосновать и аргументировать ваш вывод."
   ]
  },
  {
   "cell_type": "markdown",
   "id": "49e718f4-f596-446d-9e3a-5bd2cea9520d",
   "metadata": {},
   "source": [
    "Вывод по А/А тесту: меньше 4.7% процента наших значений оказались меньше значения 0.05, а также исходя из графика можно заметить что распределения p значения находятся на одном уровне. Наше система сплитования работает корректно"
   ]
  },
  {
   "cell_type": "code",
   "execution_count": null,
   "id": "8c0822ce-3e18-4853-a5f9-a9a3d546524b",
   "metadata": {},
   "outputs": [],
   "source": []
  }
 ],
 "metadata": {
  "kernelspec": {
   "display_name": "Python 3 (ipykernel)",
   "language": "python",
   "name": "python3"
  },
  "language_info": {
   "codemirror_mode": {
    "name": "ipython",
    "version": 3
   },
   "file_extension": ".py",
   "mimetype": "text/x-python",
   "name": "python",
   "nbconvert_exporter": "python",
   "pygments_lexer": "ipython3",
   "version": "3.9.12"
  }
 },
 "nbformat": 4,
 "nbformat_minor": 5
}
