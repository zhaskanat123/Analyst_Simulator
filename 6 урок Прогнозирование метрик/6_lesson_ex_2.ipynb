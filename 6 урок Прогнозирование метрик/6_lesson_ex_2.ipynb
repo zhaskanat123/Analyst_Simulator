{
 "cells": [
  {
   "cell_type": "code",
   "execution_count": 3,
   "id": "8f936172-4b7e-4b90-b412-393918bac515",
   "metadata": {},
   "outputs": [],
   "source": [
    "import orbit\n",
    "from orbit.models import DLT\n",
    "from orbit.diagnostics.plot import plot_predicted_data, plot_predicted_components\n",
    "from orbit.diagnostics.backtest import BackTester\n",
    "from orbit.diagnostics.metrics import mae, mse, smape, wmape\n",
    "\n",
    "import pandas as pd\n",
    "import pandahouse as ph\n",
    "import numpy as np\n",
    "import os\n",
    "\n",
    "import seaborn as sns\n",
    "import matplotlib.pyplot as plt\n",
    "import arviz as az\n",
    "\n",
    "sns.set(rc={'figure.figsize':(16,6)}, style=\"whitegrid\")"
   ]
  },
  {
   "cell_type": "code",
   "execution_count": 4,
   "id": "226f9009-d4ed-4544-93e5-98e2e00dd0fa",
   "metadata": {},
   "outputs": [],
   "source": [
    "connection = {\n",
    "    'host': 'https://clickhouse.lab.karpov.courses',\n",
    "    'password': 'dpo_python_2020',\n",
    "    'user': 'student',\n",
    "    'database': 'simulator'\n",
    "}"
   ]
  },
  {
   "cell_type": "markdown",
   "id": "478da9d9-550f-4541-ba25-a7b2b5c049f6",
   "metadata": {},
   "source": [
    "1. Выберите основную метрику, которую вы планируете прогнозировать. Обоснуйте, почему именно она. Какое временное разрешение вы возьмёте? Будут ли какие-то дополнительные регрессоры, которые вы включите в модель?"
   ]
  },
  {
   "cell_type": "markdown",
   "id": "55872bf7-bf4e-4cbd-8409-09ab8af2d83e",
   "metadata": {},
   "source": [
    "Основная метрика - число активных пользователей в день (Daily Active Users, DAU). Число активных пользователей напрямую связано с нагрузкой на серверы и инфраструктуру приложения. DAU чувствительна к изменениям в поведении пользователей, что позволяет своевременно выявлять и реагировать на проблемы с производительностью. DAU является стандартной метрикой в аналитике, что упрощает сравнение с историческими данными и метриками других компаний."
   ]
  },
  {
   "cell_type": "markdown",
   "id": "cb0cdeeb-400d-45b3-8e84-6ff960b3b7fc",
   "metadata": {},
   "source": [
    "Регрессоры: </br>\n",
    "День недели: Активность пользователей часто зависит от дня недели (больше активных пользователей в выходные или будние дни).</br>\n",
    "Праздничные дни: Включение данных о праздниках может помочь учесть резкие изменения в активности пользователей."
   ]
  },
  {
   "cell_type": "markdown",
   "id": "1dd8faf5-19d0-42b0-81a8-05ca5b36c1f3",
   "metadata": {},
   "source": [
    "2. Постройте модель и провалидируйте её. Хватает ли у нас данных для бэктестинга с текущей задачей? Если нет, то определите, для какого горизонта прогнозирования у нас хватает данных."
   ]
  },
  {
   "cell_type": "code",
   "execution_count": null,
   "id": "ce7e23b9-94e8-4696-8ed3-948370169834",
   "metadata": {},
   "outputs": [],
   "source": [
    "q = \"\"\"\n",
    "SELECT \n",
    "    toDate(time) as day,\n",
    "    action,\n",
    "    user_id,\n",
    "    post_id\n",
    "FROM \n",
    "    simulator_20240620.feed_actions \n",
    "WHERE toDate(time) >= '2024-04-14' and toDate(time) <= '2024-07-04'\n",
    "ORDER BY toDate(time)\n",
    "\"\"\"\n",
    "df = ph.read_clickhouse(q, connection=connection)"
   ]
  },
  {
   "cell_type": "code",
   "execution_count": null,
   "id": "a1dfa851-2ca0-423d-b7c3-a1bf7f3eaa59",
   "metadata": {},
   "outputs": [],
   "source": [
    "df.head()"
   ]
  },
  {
   "cell_type": "code",
   "execution_count": null,
   "id": "5fee8c57-d57b-4f30-90df-00201bb5bffd",
   "metadata": {},
   "outputs": [],
   "source": [
    "act_df = df.set_index(\"day\").resample(\"D\").agg({\"user_id\": \"nunique\", \n",
    "                                              \"action\":\"count\"}).rename({\"user_id\":\"DAU\", \n",
    "                                                                         \"action\":\"activity\"}, axis=1).reset_index()"
   ]
  },
  {
   "cell_type": "code",
   "execution_count": null,
   "id": "f6ddbb57-0ead-4f74-928b-b7ad06dd81e2",
   "metadata": {},
   "outputs": [],
   "source": [
    "act_df.head()"
   ]
  },
  {
   "cell_type": "code",
   "execution_count": null,
   "id": "4d4b1a6c-316e-414d-b39b-8062796c74d6",
   "metadata": {},
   "outputs": [],
   "source": [
    "query = '''\n",
    "SELECT \n",
    "    toStartOfDay(time) day, \n",
    "    COUNT(receiver_id) actions_mes\n",
    "FROM simulator_20240620.message_actions \n",
    "WHERE toDate(time) >= '2024-04-14' and toDate(time) <= '2024-07-04'\n",
    "GROUP BY day\n",
    "ORDER BY day\n",
    "'''\n",
    "\n",
    "mes_activity = ph.read_clickhouse(query=query, connection=connection)\n",
    "mes_activity.head()"
   ]
  },
  {
   "cell_type": "code",
   "execution_count": null,
   "id": "829e8c0c-cd6c-4fae-9e7c-dfec2eb2c359",
   "metadata": {},
   "outputs": [],
   "source": [
    "act_df = act_df.merge(mes_activity)\n",
    "act_df.head()"
   ]
  },
  {
   "cell_type": "code",
   "execution_count": null,
   "id": "bb30bbc1-9aa5-44aa-896a-4f4c9a0b5b2a",
   "metadata": {},
   "outputs": [],
   "source": [
    "act_df[\"total_activity\"] = act_df[\"activity\"] + act_df[\"actions_mes\"]\n",
    "act_df.head()"
   ]
  },
  {
   "cell_type": "code",
   "execution_count": null,
   "id": "251866c7-2411-4158-b129-bf924a190822",
   "metadata": {},
   "outputs": [],
   "source": [
    "sns.lineplot(data=act_df, x=\"day\", y=\"DAU\")"
   ]
  },
  {
   "cell_type": "code",
   "execution_count": null,
   "id": "fe43b7f0-0c9e-4a54-9bac-eef0491d69a6",
   "metadata": {},
   "outputs": [],
   "source": [
    "sns.set(rc={'figure.figsize':(16,6)}, style=\"whitegrid\")"
   ]
  },
  {
   "cell_type": "code",
   "execution_count": null,
   "id": "53000ac0-78dd-4e2f-8540-6bc849f5876d",
   "metadata": {},
   "outputs": [],
   "source": [
    "sns.lineplot(data=act_df, x=\"day\", y=\"activity\")"
   ]
  },
  {
   "cell_type": "code",
   "execution_count": null,
   "id": "32de5a24-45ec-41e6-ae72-0bc083b31737",
   "metadata": {},
   "outputs": [],
   "source": [
    "sns.lineplot(data=act_df, x=\"day\", y=\"actions_mes\")"
   ]
  },
  {
   "cell_type": "code",
   "execution_count": null,
   "id": "7be2b0b4-7399-437e-a892-7581edf9f48b",
   "metadata": {},
   "outputs": [],
   "source": []
  }
 ],
 "metadata": {
  "kernelspec": {
   "display_name": "Python 3 (ipykernel)",
   "language": "python",
   "name": "python3"
  },
  "language_info": {
   "codemirror_mode": {
    "name": "ipython",
    "version": 3
   },
   "file_extension": ".py",
   "mimetype": "text/x-python",
   "name": "python",
   "nbconvert_exporter": "python",
   "pygments_lexer": "ipython3",
   "version": "3.8.10"
  }
 },
 "nbformat": 4,
 "nbformat_minor": 5
}
